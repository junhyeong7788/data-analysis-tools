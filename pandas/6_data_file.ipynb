{
 "cells": [
  {
   "cell_type": "markdown",
   "metadata": {},
   "source": [
    "## Pandas_ Data file\n",
    "- 데이터 읽기와 쓰기 함수\n",
    "    - 판다스에서 제공하는 읽기 / 쓰기 함수\n",
    "        - read_csv, to_csv\n",
    "        - read_excel, to_excel\n",
    "        - read_hdf, to_hdf\n",
    "        - read_sql, to_sql\n",
    "        - read_json, to_json\n",
    "        - read_html, to_html\n",
    "        - read_clipboard, to_clipboard\n",
    "    - Pandas는 다양한 형식의 외부 데이터 파일을 읽어 데이터프레임으로 만듬\n",
    "        - CSV, Excel, HDF5, SQL, JSON, HTML, Clipboard...\n",
    "        - 데이터프레임은 따로 생성하지 않고  외부에 존재하는 데이터 파일을 읽어와서 사용함\n",
    "    - `절대 경로명과 상대 경로 차이점`\n",
    "        - 절대 경로 : 모든 경로명을 표기\n",
    "        - 상대 경로 : 현재 작업하고 있는 소스 코드가 저장되어 있는 위치를 기준으로 파일 경로를 표기"
   ]
  },
  {
   "cell_type": "code",
   "execution_count": 1,
   "metadata": {},
   "outputs": [],
   "source": [
    "import pandas as pd"
   ]
  },
  {
   "cell_type": "markdown",
   "metadata": {},
   "source": [
    "### CSV 파일\n",
    "- `CSV파일로 저장하는 이유 : Excel 파일은 용량이 크고, 데이터 처리 속도가 느린 점도 있고 라이센스 비용이 발생하기에 전세계 누구나 볼 수 있는 CSV파일로 저장한다.`\n",
    "- 각 라인의 컬럼들이 콤마로 분리된 텍스트 파일 포맷\n",
    "- 스프레드 시트와 데이터 베이스에 대한 가장 일반적인 가져오기 및 내보내기\n",
    "- CSV 형식은 특별한 표준이 없어 각기 다른 어플리케이션에 의해 만들어지고 사용되는데 차이가 있다.\n",
    "- 단순하며, 쉬운 간편성 때문에 많이 사용되고 있다.\n",
    "\n",
    "    - CSV 파일 읽기 : `pandas.read_csv('파일경로/파일명')`\n",
    "    - CSV 파일 저장 : 데이터프레임은 2차원 배열로 구조화된 데이터이기 떄문에 2차원 구조를 갖는 CSV파일로 변환 가능\n",
    "        - `DataFrame.to_csv('파일경로/파일명')`"
   ]
  },
  {
   "cell_type": "markdown",
   "metadata": {},
   "source": [
    "#### CSV 파일 한글 인코딩 방식\n",
    "- 엑셀을 사용하여 데이터 시트에 입력하고 엑셀 파일을 CSV파일로 저장하는 형식 \n",
    "    - CSV : 한글 인코딩 방식이 필요한 파일 형식\n",
    "    - CSV UTF-8 : 한글 인코딩 방식이 불필요한 파일 형식\n",
    "\n",
    "- 파일 생성 및 읽기 - 한글 인코딩 방식 지정\n",
    "    - CSV 형식으로 저장 : `encoding='cp949'` 반드시 선언\n",
    "    - CSV UTF-8 형식으로 저장 : 한글 인코딩 방식을 생략"
   ]
  },
  {
   "cell_type": "code",
   "execution_count": 2,
   "metadata": {},
   "outputs": [
    {
     "name": "stderr",
     "output_type": "stream",
     "text": [
      "UsageError: Line magic function `%%writefile` not found.\n"
     ]
    }
   ],
   "source": [
    "# 샘플데이터로 사용할 CSV파일을 %%writefile 매직 명령으로 만들기\n",
    "%%writefile sample.csv \n",
    "c1, c2, c3\n",
    "1, 1.11, one\n",
    "2, 2.22, two\n",
    "3, 3.33, three"
   ]
  },
  {
   "cell_type": "code",
   "execution_count": 3,
   "metadata": {},
   "outputs": [
    {
     "data": {
      "text/html": [
       "<div>\n",
       "<style scoped>\n",
       "    .dataframe tbody tr th:only-of-type {\n",
       "        vertical-align: middle;\n",
       "    }\n",
       "\n",
       "    .dataframe tbody tr th {\n",
       "        vertical-align: top;\n",
       "    }\n",
       "\n",
       "    .dataframe thead th {\n",
       "        text-align: right;\n",
       "    }\n",
       "</style>\n",
       "<table border=\"1\" class=\"dataframe\">\n",
       "  <thead>\n",
       "    <tr style=\"text-align: right;\">\n",
       "      <th></th>\n",
       "      <th>c1</th>\n",
       "      <th>c2</th>\n",
       "      <th>c3</th>\n",
       "    </tr>\n",
       "  </thead>\n",
       "  <tbody>\n",
       "    <tr>\n",
       "      <th>0</th>\n",
       "      <td>1</td>\n",
       "      <td>1.11</td>\n",
       "      <td>one</td>\n",
       "    </tr>\n",
       "    <tr>\n",
       "      <th>1</th>\n",
       "      <td>2</td>\n",
       "      <td>2.22</td>\n",
       "      <td>two</td>\n",
       "    </tr>\n",
       "    <tr>\n",
       "      <th>2</th>\n",
       "      <td>3</td>\n",
       "      <td>3.33</td>\n",
       "      <td>three</td>\n",
       "    </tr>\n",
       "  </tbody>\n",
       "</table>\n",
       "</div>"
      ],
      "text/plain": [
       "   c1    c2      c3\n",
       "0   1  1.11     one\n",
       "1   2  2.22     two\n",
       "2   3  3.33   three"
      ]
     },
     "execution_count": 3,
     "metadata": {},
     "output_type": "execute_result"
    }
   ],
   "source": [
    "df = pd.read_csv('sample.csv')\n",
    "df"
   ]
  },
  {
   "cell_type": "code",
   "execution_count": 4,
   "metadata": {},
   "outputs": [
    {
     "name": "stdout",
     "output_type": "stream",
     "text": [
      "Overwriting sample1.csv\n"
     ]
    }
   ],
   "source": [
    "%%writefile sample1.csv\n",
    "c1, c2, c3\n",
    "1, 1.11, one\n",
    "2, 2.22, two\n",
    "3, 3.33, three"
   ]
  },
  {
   "cell_type": "code",
   "execution_count": 5,
   "metadata": {},
   "outputs": [
    {
     "data": {
      "text/html": [
       "<div>\n",
       "<style scoped>\n",
       "    .dataframe tbody tr th:only-of-type {\n",
       "        vertical-align: middle;\n",
       "    }\n",
       "\n",
       "    .dataframe tbody tr th {\n",
       "        vertical-align: top;\n",
       "    }\n",
       "\n",
       "    .dataframe thead th {\n",
       "        text-align: right;\n",
       "    }\n",
       "</style>\n",
       "<table border=\"1\" class=\"dataframe\">\n",
       "  <thead>\n",
       "    <tr style=\"text-align: right;\">\n",
       "      <th></th>\n",
       "      <th>c1</th>\n",
       "      <th>c2</th>\n",
       "      <th>c3</th>\n",
       "    </tr>\n",
       "  </thead>\n",
       "  <tbody>\n",
       "    <tr>\n",
       "      <th>0</th>\n",
       "      <td>c1</td>\n",
       "      <td>c2</td>\n",
       "      <td>c3</td>\n",
       "    </tr>\n",
       "    <tr>\n",
       "      <th>1</th>\n",
       "      <td>1</td>\n",
       "      <td>1.11</td>\n",
       "      <td>one</td>\n",
       "    </tr>\n",
       "    <tr>\n",
       "      <th>2</th>\n",
       "      <td>2</td>\n",
       "      <td>2.22</td>\n",
       "      <td>two</td>\n",
       "    </tr>\n",
       "    <tr>\n",
       "      <th>3</th>\n",
       "      <td>3</td>\n",
       "      <td>3.33</td>\n",
       "      <td>three</td>\n",
       "    </tr>\n",
       "  </tbody>\n",
       "</table>\n",
       "</div>"
      ],
      "text/plain": [
       "   c1     c2      c3\n",
       "0  c1     c2      c3\n",
       "1   1   1.11     one\n",
       "2   2   2.22     two\n",
       "3   3   3.33   three"
      ]
     },
     "execution_count": 5,
     "metadata": {},
     "output_type": "execute_result"
    }
   ],
   "source": [
    "df1 = pd.read_csv('sample1.csv', names=['c1', 'c2', 'c3'])\n",
    "df1"
   ]
  },
  {
   "cell_type": "code",
   "execution_count": 6,
   "metadata": {},
   "outputs": [
    {
     "name": "stdout",
     "output_type": "stream",
     "text": [
      "Overwriting sample2.csv\n"
     ]
    }
   ],
   "source": [
    "%%writefile sample2.csv\n",
    "c1, c2, c3\n",
    "1, 1.11, one\n",
    "2, , two\n",
    "누락, 3.33, three"
   ]
  },
  {
   "cell_type": "code",
   "execution_count": 7,
   "metadata": {},
   "outputs": [
    {
     "data": {
      "text/html": [
       "<div>\n",
       "<style scoped>\n",
       "    .dataframe tbody tr th:only-of-type {\n",
       "        vertical-align: middle;\n",
       "    }\n",
       "\n",
       "    .dataframe tbody tr th {\n",
       "        vertical-align: top;\n",
       "    }\n",
       "\n",
       "    .dataframe thead th {\n",
       "        text-align: right;\n",
       "    }\n",
       "</style>\n",
       "<table border=\"1\" class=\"dataframe\">\n",
       "  <thead>\n",
       "    <tr style=\"text-align: right;\">\n",
       "      <th></th>\n",
       "      <th>c1</th>\n",
       "      <th>c2</th>\n",
       "      <th>c3</th>\n",
       "    </tr>\n",
       "  </thead>\n",
       "  <tbody>\n",
       "    <tr>\n",
       "      <th>0</th>\n",
       "      <td>1.0</td>\n",
       "      <td>1.11</td>\n",
       "      <td>one</td>\n",
       "    </tr>\n",
       "    <tr>\n",
       "      <th>1</th>\n",
       "      <td>2.0</td>\n",
       "      <td></td>\n",
       "      <td>two</td>\n",
       "    </tr>\n",
       "    <tr>\n",
       "      <th>2</th>\n",
       "      <td>NaN</td>\n",
       "      <td>3.33</td>\n",
       "      <td>three</td>\n",
       "    </tr>\n",
       "  </tbody>\n",
       "</table>\n",
       "</div>"
      ],
      "text/plain": [
       "    c1     c2      c3\n",
       "0  1.0   1.11     one\n",
       "1  2.0            two\n",
       "2  NaN   3.33   three"
      ]
     },
     "execution_count": 7,
     "metadata": {},
     "output_type": "execute_result"
    }
   ],
   "source": [
    "df = pd.read_csv('sample2.csv', na_values=['누락']) # 특정 값을 NaN값으로 저장\n",
    "df"
   ]
  },
  {
   "cell_type": "code",
   "execution_count": 8,
   "metadata": {},
   "outputs": [
    {
     "name": "stdout",
     "output_type": "stream",
     "text": [
      "Overwriting sample3.txt\n"
     ]
    }
   ],
   "source": [
    "%%writefile sample3.txt\n",
    "c1 c2 c3 c4\n",
    "0.179181 -1.538472 1.347553 0.43381\n",
    "1.024209 0.087307 -1.281997 0.49265\n",
    "0.417899 -2.002308 0.255245 -1.10515"
   ]
  },
  {
   "cell_type": "code",
   "execution_count": 9,
   "metadata": {},
   "outputs": [
    {
     "data": {
      "text/html": [
       "<div>\n",
       "<style scoped>\n",
       "    .dataframe tbody tr th:only-of-type {\n",
       "        vertical-align: middle;\n",
       "    }\n",
       "\n",
       "    .dataframe tbody tr th {\n",
       "        vertical-align: top;\n",
       "    }\n",
       "\n",
       "    .dataframe thead th {\n",
       "        text-align: right;\n",
       "    }\n",
       "</style>\n",
       "<table border=\"1\" class=\"dataframe\">\n",
       "  <thead>\n",
       "    <tr style=\"text-align: right;\">\n",
       "      <th></th>\n",
       "      <th>c1</th>\n",
       "      <th>c2</th>\n",
       "      <th>c3</th>\n",
       "      <th>c4</th>\n",
       "    </tr>\n",
       "  </thead>\n",
       "  <tbody>\n",
       "    <tr>\n",
       "      <th>0</th>\n",
       "      <td>0.179181</td>\n",
       "      <td>-1.538472</td>\n",
       "      <td>1.347553</td>\n",
       "      <td>0.43381</td>\n",
       "    </tr>\n",
       "    <tr>\n",
       "      <th>1</th>\n",
       "      <td>1.024209</td>\n",
       "      <td>0.087307</td>\n",
       "      <td>-1.281997</td>\n",
       "      <td>0.49265</td>\n",
       "    </tr>\n",
       "    <tr>\n",
       "      <th>2</th>\n",
       "      <td>0.417899</td>\n",
       "      <td>-2.002308</td>\n",
       "      <td>0.255245</td>\n",
       "      <td>-1.10515</td>\n",
       "    </tr>\n",
       "  </tbody>\n",
       "</table>\n",
       "</div>"
      ],
      "text/plain": [
       "         c1        c2        c3       c4\n",
       "0  0.179181 -1.538472  1.347553  0.43381\n",
       "1  1.024209  0.087307 -1.281997  0.49265\n",
       "2  0.417899 -2.002308  0.255245 -1.10515"
      ]
     },
     "execution_count": 9,
     "metadata": {},
     "output_type": "execute_result"
    }
   ],
   "source": [
    "pd.read_table('sample3.txt', sep='\\s+') # 구분자가 쉼표가 아니면 sep사용 (구분자의 길이가 정해지지 않은 공백인 경우 : \\s+)"
   ]
  },
  {
   "cell_type": "markdown",
   "metadata": {},
   "source": [
    "- 엑셀 데이터를 CSV (쉼표로 분리)(*csv)형식으로 저장"
   ]
  },
  {
   "cell_type": "code",
   "execution_count": 10,
   "metadata": {},
   "outputs": [],
   "source": [
    "#df = pd.read_csv('test.csv', encoding='cp949')\n",
    "#df"
   ]
  },
  {
   "cell_type": "markdown",
   "metadata": {},
   "source": [
    "### Excel 파일\n",
    "- Excel 파일 행과 열은 데이터프레임의 행, 열로 일대일 대응\n",
    "- CSV와 마찬가지로 데이터 분석 라이브러리 판다스를 이용하여 Excel 파일의 데이터를 불러오기\n",
    "    - `pandas.read_excel('파일경로/파일명')`\n",
    "\n",
    "- Excel 파일 저장\n",
    "    - `DataFrame.to_excel('파일경로/파일명')`\n",
    "\n",
    "- **주의사항**\n",
    "    - 엑셀 시트에 데이터를 입력할 때 정렬 옵션은 사용하지 않고 기본값 그대로 입력 (정렬 옵션 사용 시 데이터가 깨질 수 있음)"
   ]
  },
  {
   "cell_type": "code",
   "execution_count": 11,
   "metadata": {},
   "outputs": [
    {
     "name": "stdout",
     "output_type": "stream",
     "text": [
      "Requirement already satisfied: openpyxl in /opt/anaconda3/envs/mlpython/lib/python3.11/site-packages (3.1.5)\n",
      "Requirement already satisfied: et-xmlfile in /opt/anaconda3/envs/mlpython/lib/python3.11/site-packages (from openpyxl) (1.1.0)\n"
     ]
    }
   ],
   "source": [
    "!pip install openpyxl"
   ]
  },
  {
   "cell_type": "code",
   "execution_count": 12,
   "metadata": {},
   "outputs": [
    {
     "name": "stdout",
     "output_type": "stream",
     "text": [
      "     나이 성별    키  체중\n",
      "성명                 \n",
      "이순신  22  남  175  75\n",
      "김유진  19  여  163  53\n"
     ]
    }
   ],
   "source": [
    "person_data = {'성명' : ['이순신', '김유진'],\n",
    "               '나이' : [22, 19], '성별' : ['남', '여'],\n",
    "               '키' : [175, 163], '체중' : [75, 53]}\n",
    "df = pd.DataFrame(person_data)\n",
    "df.set_index('성명', inplace=True) # 성명 열을 인덱스로 지정\n",
    "print(df)\n",
    "df.to_excel('person1.xlsx')"
   ]
  },
  {
   "cell_type": "code",
   "execution_count": 13,
   "metadata": {},
   "outputs": [
    {
     "name": "stdout",
     "output_type": "stream",
     "text": [
      "    성명  나이 성별    키  체중\n",
      "0  이순신  22  남  175  75\n",
      "1  김유진  19  여  163  53\n",
      "     0   1   2    3   4\n",
      "0   성명  나이  성별    키  체중\n",
      "1  이순신  22   남  175  75\n",
      "2  김유진  19   여  163  53\n"
     ]
    }
   ],
   "source": [
    "# excel 파일명을 변수에 대입\n",
    "data = 'person1.xlsx'\n",
    "# 데이터 프레임\n",
    "df1 = pd.read_excel(data)\n",
    "df2 = pd.read_excel(data, header=None)\n",
    "\n",
    "print(df1)\n",
    "print(df2)"
   ]
  },
  {
   "cell_type": "code",
   "execution_count": 14,
   "metadata": {},
   "outputs": [
    {
     "name": "stdout",
     "output_type": "stream",
     "text": [
      "    성명  나이 성별    키  체중\n",
      "0  이순신  22  남  175  75\n",
      "1  김유진  19  여  163  53\n"
     ]
    }
   ],
   "source": [
    "person1_data = {'성명' : ['이순신', '김유진'],\n",
    "               '나이' : [22, 19], '성별' : ['남', '여'],\n",
    "               '키' : [175, 163], '체중' : [75, 53]}\n",
    "df = pd.DataFrame(person1_data)\n",
    "df.set_index('성명', inplace=True) # 성명 열을 인덱스로 지정\n",
    "print(df1)\n",
    "df.to_excel('output.xlsx', sheet_name='검진 데이터')"
   ]
  },
  {
   "cell_type": "code",
   "execution_count": 15,
   "metadata": {},
   "outputs": [
    {
     "name": "stdout",
     "output_type": "stream",
     "text": [
      "    성명  나이 성별    키  체중\n",
      "0  이순신  22  남  175  75\n",
      "1  김유진  19  여  163  53\n"
     ]
    }
   ],
   "source": [
    "data = 'output.xlsx'\n",
    "df1 = pd.read_excel(data)\n",
    "print(df1)"
   ]
  },
  {
   "cell_type": "markdown",
   "metadata": {},
   "source": [
    "- `DataFrame.copy()` \n",
    "    - 데이터 및 인덱스의 복사본을 포함하여 전체 복사본을 만든다.\n",
    "    - 기본값 (deep=True)으로 복사하면 원본 데이터프레임이 변경되어도 복사본 데이터프레임은 변경되지 않음"
   ]
  },
  {
   "cell_type": "code",
   "execution_count": 16,
   "metadata": {},
   "outputs": [
    {
     "name": "stdout",
     "output_type": "stream",
     "text": [
      "     나이 성별    키  체중\n",
      "성명                 \n",
      "이순신  22  남  175  75\n",
      "김유진  19  여  163  53 \n",
      "\n",
      "     나이 성별    키  체중\n",
      "성명                 \n",
      "이순신  22  남  175  75\n",
      "김유진  19  여  163  53\n"
     ]
    }
   ],
   "source": [
    "person1_data = {'성명' : ['이순신', '김유진'],\n",
    "               '나이' : [22, 19], '성별' : ['남', '여'],\n",
    "               '키' : [175, 163], '체중' : [75, 53]}\n",
    "df1 = pd.DataFrame(person1_data)\n",
    "df1.set_index('성명', inplace=True) # 성명 열을 인덱스로 지정\n",
    "df2 = df1.copy()\n",
    "print(df1, '\\n')\n",
    "print(df2)\n",
    "with pd.ExcelWriter('output.xlsx') as writer:\n",
    "    df1.to_excel(writer, sheet_name='검진 데이터')\n",
    "    df2.to_excel(writer, sheet_name='나이 데이터')"
   ]
  },
  {
   "cell_type": "markdown",
   "metadata": {},
   "source": [
    "- excel 파일로 저장 시 여러 sheet_name으로 저장하기"
   ]
  },
  {
   "cell_type": "code",
   "execution_count": 17,
   "metadata": {},
   "outputs": [
    {
     "name": "stdout",
     "output_type": "stream",
     "text": [
      "     나이 성별    키  체중\n",
      "이름                 \n",
      "이순신  22  남  175  75\n",
      "김유진  19  여  163  53\n",
      "\n",
      "\n",
      "     나이           생년월일\n",
      "이름                    \n",
      "홍길동  21    2001년 1월 1일\n",
      "이순신  22    2000년 5월 3일\n",
      "김유진  25    1997년 7월 9일\n",
      "정이동  23    1999년 6월 1일\n",
      "이순신  24   1998년 9월 12일\n",
      "박유정  20  2002년 12월 24일\n"
     ]
    }
   ],
   "source": [
    "person1_data = {'이름': ['이순신', '김유진'],\n",
    "                '나이': [22, 19], '성별': ['남', '여'],\n",
    "                '키': [175, 163], '체중': [75, 53]}\n",
    "\n",
    "person2_data = {'이름': ['홍길동', '이순신', '김유진', '정이동', '이순신', '박유정'],\n",
    "                '나이': [21, 22, 25, 23, 24, 20],\n",
    "                '생년월일': ['2001년 1월 1일', '2000년 5월 3일', '1997년 7월 9일',\n",
    "                            '1999년 6월 1일', '1998년 9월 12일', '2002년 12월 24일']}\n",
    "\n",
    "# DataFrame() 함수를 사용하여 데이터 프레임을 변환하고 변수 df에 저장\n",
    "df1 = pd.DataFrame(person1_data)\n",
    "df1.set_index('이름', inplace=True)  # 이름 열을 인덱스로 지정\n",
    "print(df1)\n",
    "\n",
    "print('\\n')\n",
    "\n",
    "df2 = pd.DataFrame(person2_data)\n",
    "df2.set_index('이름', inplace=True)  # 이름 열을 인덱스로 지정\n",
    "print(df2)\n",
    "\n",
    "# 데이터 프레임 2개를 Excel 파일로 저장하기\n",
    "d_save = pd.ExcelWriter('person2.xlsx')\n",
    "df1.to_excel(d_save, sheet_name='검진 데이터')  # 첫 번째 Excel 시트에 저장\n",
    "df2.to_excel(d_save, sheet_name='나이 데이터')  # 두 번째 Excel 시트에 저장\n"
   ]
  },
  {
   "cell_type": "markdown",
   "metadata": {},
   "source": [
    "### Json파일\n",
    "- 데이터를 공유할 목적으로 개발된 특수한 형태의 파일 형식\n",
    "- Json (확장자 .json) 은 JavaScript Object Notation의 약자로 JavaScript 문법에 영향을 받아 개발된 가벼운 데이터 표현 방식\n",
    "- Json은 데이터를 교환하는 한 포맷으로서 그 단순함과 유연함 때문에 널리 사용되고 있다.\n",
    "    - Json 파일 읽기 : `pandas.read_json('파일경로/파일명')`\n",
    "        - encoding : 기본값 = 'utf-8'\n",
    "    - Json 파일 저장 : `DataFrame.to_json('파일경로/파일명')`"
   ]
  },
  {
   "cell_type": "code",
   "execution_count": 18,
   "metadata": {},
   "outputs": [
    {
     "name": "stdout",
     "output_type": "stream",
     "text": [
      "     나이 성별    키  체중\n",
      "이름                 \n",
      "이순신  22  남  175  75\n",
      "김유진  19  여  163  53\n"
     ]
    }
   ],
   "source": [
    "# json 파일 저장\n",
    "person_data = {'이름': ['이순신', '김유진'],\n",
    "                '나이': [22, 19], '성별': ['남', '여'],\n",
    "                '키': [175, 163], '체중': [75, 53]}\n",
    "\n",
    "df = pd.DataFrame(person_data)\n",
    "df.set_index('이름', inplace=True)\n",
    "print(df)\n",
    "df.to_json('person1.json')"
   ]
  },
  {
   "cell_type": "code",
   "execution_count": 19,
   "metadata": {},
   "outputs": [
    {
     "name": "stdout",
     "output_type": "stream",
     "text": [
      "     나이 성별    키  체중\n",
      "이순신  22  남  175  75\n",
      "김유진  19  여  163  53\n"
     ]
    }
   ],
   "source": [
    "# Json 파일 읽기\n",
    "data = 'person1.json'\n",
    "df1 = pd.read_json(data)\n",
    "print(df1)"
   ]
  },
  {
   "cell_type": "markdown",
   "metadata": {},
   "source": [
    "### 파이썬 웹크롤링\n",
    "- 웹 페이지를 원본 그대로 불러와 웹 페이지 내에 데이터를 추출하는 기술\n",
    "- 웹 크롤러 : 크롤링 전용 소프트웨어\n",
    "    - 파이썬 크롤링의 대표적인 라이브러리 : beautifulsoup\n",
    "    - 데이터 웹 크롤링 하기\n",
    "        - 웹소켓을 이용하여 원하는 웹사이트에 연결 요청을 진행\n",
    "        - 연결 요청을 응답으로 웹서버는 응답을 보내면 보통 HTML이나 JSON형식으로 반환\n",
    "        - 반환된 HTML, JSON데이터를 beautifulsoup 라이브러리를 이용하여 파싱"
   ]
  }
 ],
 "metadata": {
  "kernelspec": {
   "display_name": "mlpython",
   "language": "python",
   "name": "python3"
  },
  "language_info": {
   "codemirror_mode": {
    "name": "ipython",
    "version": 3
   },
   "file_extension": ".py",
   "mimetype": "text/x-python",
   "name": "python",
   "nbconvert_exporter": "python",
   "pygments_lexer": "ipython3",
   "version": "3.11.9"
  }
 },
 "nbformat": 4,
 "nbformat_minor": 2
}
