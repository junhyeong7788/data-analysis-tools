{
 "cells": [
  {
   "cell_type": "markdown",
   "metadata": {},
   "source": [
    "## Numpy_calculation\n",
    "\n",
    "### 넘파이 배열 연산\n",
    "- 더하기, 빼기, 곱하기 등이 가능"
   ]
  },
  {
   "cell_type": "code",
   "execution_count": 8,
   "metadata": {},
   "outputs": [],
   "source": [
    "import numpy as np"
   ]
  },
  {
   "cell_type": "code",
   "execution_count": 2,
   "metadata": {},
   "outputs": [
    {
     "name": "stdout",
     "output_type": "stream",
     "text": [
      "[[ 6  8]\n",
      " [10 12]]\n",
      "---------\n",
      "[[-4 -4]\n",
      " [-4 -4]]\n",
      "---------\n",
      "[[ 5 12]\n",
      " [21 32]]\n",
      "---------\n",
      "[[0.2        0.33333333]\n",
      " [0.42857143 0.5       ]]\n"
     ]
    }
   ],
   "source": [
    "arr1 = np.array([[1, 2], [3, 4]])\n",
    "arr2 = np.array([[5, 6], [7, 8]])\n",
    "print(arr1 + arr2)\n",
    "print('---------')\n",
    "print(arr1 - arr2)\n",
    "print('---------')\n",
    "print(arr1 * arr2)\n",
    "print('---------')\n",
    "print(arr1 / arr2)\n"
   ]
  },
  {
   "cell_type": "code",
   "execution_count": 3,
   "metadata": {},
   "outputs": [
    {
     "name": "stdout",
     "output_type": "stream",
     "text": [
      "[[ 6  8]\n",
      " [10 12]]\n",
      "----------\n",
      "[[-4 -4]\n",
      " [-4 -4]]\n",
      "----------\n",
      "[[ 5 12]\n",
      " [21 32]]\n",
      "----------\n",
      "[[0.2        0.33333333]\n",
      " [0.42857143 0.5       ]]\n"
     ]
    }
   ],
   "source": [
    "arr1 = np.array([[1, 2], [3, 4]])\n",
    "arr2 = np.array([[5, 6], [7, 8]])\n",
    "\n",
    "print(np.add(arr1, arr2))\n",
    "print('----------')\n",
    "print(np.subtract(arr1, arr2))\n",
    "print('----------')\n",
    "print(np.multiply(arr1, arr2))\n",
    "print('----------')\n",
    "print(np.divide(arr1, arr2))"
   ]
  },
  {
   "cell_type": "code",
   "execution_count": 4,
   "metadata": {},
   "outputs": [
    {
     "name": "stdout",
     "output_type": "stream",
     "text": [
      "[[1 2]\n",
      " [3 4]] \n",
      "\n",
      "[[5 6]\n",
      " [7 8]] \n",
      "\n",
      "[[ 5 12]\n",
      " [21 32]] \n",
      "\n",
      "[[19 22]\n",
      " [43 50]] \n",
      "\n",
      "[[19 22]\n",
      " [43 50]] \n",
      "\n"
     ]
    }
   ],
   "source": [
    "A = np.array([[1, 2], [3, 4]])\n",
    "B = np.array([[5, 6], [7, 8]])\n",
    "print(A, '\\n')\n",
    "print(B, '\\n')\n",
    "print(A * B, '\\n')      # elementwise product\n",
    "print(A @ B, '\\n')      # matrix product\n",
    "print(A.dot(B), '\\n')   # another matrix product"
   ]
  },
  {
   "cell_type": "markdown",
   "metadata": {},
   "source": [
    "- 평균, 중앙값, 합, 최대값, 최소값 계산"
   ]
  },
  {
   "cell_type": "code",
   "execution_count": 5,
   "metadata": {},
   "outputs": [
    {
     "data": {
      "text/plain": [
       "np.float64(6.8)"
      ]
     },
     "execution_count": 5,
     "metadata": {},
     "output_type": "execute_result"
    }
   ],
   "source": [
    "array_data = np.array([3, 7, 1, 2, 21])\n",
    "np.mean(array_data)"
   ]
  },
  {
   "cell_type": "code",
   "execution_count": 6,
   "metadata": {},
   "outputs": [
    {
     "data": {
      "text/plain": [
       "np.float64(3.0)"
      ]
     },
     "execution_count": 6,
     "metadata": {},
     "output_type": "execute_result"
    }
   ],
   "source": [
    "np.median(array_data)"
   ]
  },
  {
   "cell_type": "code",
   "execution_count": 7,
   "metadata": {},
   "outputs": [
    {
     "data": {
      "text/plain": [
       "np.int64(21)"
      ]
     },
     "execution_count": 7,
     "metadata": {},
     "output_type": "execute_result"
    }
   ],
   "source": [
    "np.max(array_data)"
   ]
  },
  {
   "cell_type": "code",
   "execution_count": 8,
   "metadata": {},
   "outputs": [
    {
     "data": {
      "text/plain": [
       "np.int64(1)"
      ]
     },
     "execution_count": 8,
     "metadata": {},
     "output_type": "execute_result"
    }
   ],
   "source": [
    "np.min(array_data)"
   ]
  },
  {
   "cell_type": "code",
   "execution_count": 9,
   "metadata": {},
   "outputs": [
    {
     "data": {
      "text/plain": [
       "np.int64(34)"
      ]
     },
     "execution_count": 9,
     "metadata": {},
     "output_type": "execute_result"
    }
   ],
   "source": [
    "np.sum(array_data)"
   ]
  },
  {
   "cell_type": "code",
   "execution_count": 10,
   "metadata": {},
   "outputs": [
    {
     "name": "stdout",
     "output_type": "stream",
     "text": [
      "[[110  70 132]\n",
      " [ 32 175  88]\n",
      " [183  98  97]]\n",
      "--------------\n",
      "[[234 102 114]\n",
      " [156 148  36]\n",
      " [228 205 202]]\n",
      "--------------\n"
     ]
    },
    {
     "data": {
      "text/plain": [
       "array([[234, 102, 132],\n",
       "       [156, 175,  88],\n",
       "       [228, 205, 202]])"
      ]
     },
     "execution_count": 10,
     "metadata": {},
     "output_type": "execute_result"
    }
   ],
   "source": [
    "#행렬의 자리수를 비교하여 큰 값을 반환\n",
    "\n",
    "arr1 = np.random.randint(0, 255, size = (3, 3)) \n",
    "print(arr1)\n",
    "print('--------------') \n",
    "arr2 = np.random.randint(0, 255, size = (3, 3))\n",
    "print(arr2)\n",
    "print('--------------')\n",
    "np.maximum(arr1, arr2)      "
   ]
  },
  {
   "cell_type": "markdown",
   "metadata": {},
   "source": [
    "### 산술 연산과 브로드 캐스팅\n",
    "- 브로드 캐스팅 (Broadcasting) : 형상이 다른 배열끼리 연산을 수행할 수 있도록 배열의 형상을 동적으로 변환"
   ]
  },
  {
   "cell_type": "code",
   "execution_count": 11,
   "metadata": {},
   "outputs": [
    {
     "name": "stdout",
     "output_type": "stream",
     "text": [
      "[ 5 10 15]\n",
      "[ 9 10 11]\n",
      "[5 7 9]\n",
      "[ 4 10 18]\n",
      "[3 3 3]\n",
      "[4.  2.5 2. ]\n"
     ]
    }
   ],
   "source": [
    "a = np.array([1, 2, 3])\n",
    "b = np.array([4, 5, 6])\n",
    "print(a*5)\n",
    "print(b+5)\n",
    "print(a+b)\n",
    "print(a*b)\n",
    "print(b-a)\n",
    "print(b/a)"
   ]
  },
  {
   "cell_type": "markdown",
   "metadata": {},
   "source": [
    "- 배열의 크기가 다른 경우의 연산\n",
    "    - 앞 배열의 크기 2X2에 맞춰서 뒤쪽 배열도 2X2 크기로 확장된 후 연산을 진행함"
   ]
  },
  {
   "cell_type": "code",
   "execution_count": 12,
   "metadata": {},
   "outputs": [
    {
     "name": "stdout",
     "output_type": "stream",
     "text": [
      "[[ 6 12]\n",
      " [ 8 14]]\n",
      "[[ 5 20]\n",
      " [15 40]]\n"
     ]
    }
   ],
   "source": [
    "a = np.array([[1, 2], [3, 4]])\n",
    "b = np.array([5, 10])\n",
    "print(a+b)\n",
    "print(a*b)"
   ]
  },
  {
   "cell_type": "markdown",
   "metadata": {},
   "source": [
    "- int, float, str, tuple 객체 : immutable 로 값을 바꿀 수 없다.\n",
    "- list, dict, numpy의 배열 객체 : mutable로 값을 바꿀 수 있다.\n",
    "- 얕은 복사 (Shallow Copy) : 객체를 복사할 때 주소값만 복사하는 것"
   ]
  },
  {
   "cell_type": "code",
   "execution_count": 13,
   "metadata": {},
   "outputs": [
    {
     "name": "stdout",
     "output_type": "stream",
     "text": [
      "a값 : [1, 2, 3]\n",
      "b값 : [10, 2, 3]\n"
     ]
    }
   ],
   "source": [
    "#얕은 복사\n",
    "a = [1, 2, 3]\n",
    "b = a[:]        #얕은 복사로 인식\n",
    "b[0] = 10\n",
    "print(f'a값 : {a}')\n",
    "print(f'b값 : {b}')"
   ]
  },
  {
   "cell_type": "code",
   "execution_count": 14,
   "metadata": {},
   "outputs": [
    {
     "name": "stdout",
     "output_type": "stream",
     "text": [
      "a값 : [[10, 2, 3], [4, 5, 6], [7, 8, 9]]\n",
      "b값 : [[10, 2, 3], [4, 5, 6], [7, 8, 9]]\n"
     ]
    }
   ],
   "source": [
    "a = [[1, 2, 3], [4, 5, 6], [7, 8, 9]]\n",
    "b = a[:]\n",
    "b[0][0] = 10\n",
    "print(f'a값 : {a}')\n",
    "print(f'b값 : {b}')"
   ]
  },
  {
   "cell_type": "markdown",
   "metadata": {},
   "source": [
    "### mutable한 객체의 변수 간 대입\n",
    "- list의 얕은 복사(Shallow Copy)\n",
    "    - b에 a를 할당하면 값이 할당되는 것이 아니라 같은 메모리 주소를  참조\n",
    "    - b를 변경하면 같이 a도 바뀜\n",
    "    - mutable한 다른 객체 또한 똑같은 현상이 나타남"
   ]
  },
  {
   "cell_type": "code",
   "execution_count": 15,
   "metadata": {},
   "outputs": [
    {
     "name": "stdout",
     "output_type": "stream",
     "text": [
      "변경 전 a값: [1, 2, 3]\n",
      "변경 후 a값: [5, 2, 3]\n",
      "b값: [5, 2, 3]\n",
      "4413804864 4413804864\n"
     ]
    }
   ],
   "source": [
    "a = [1, 2, 3]\n",
    "print(f'변경 전 a값: {a}')\n",
    "b = a  # shallow copy\n",
    "b[0] = 5\n",
    "print(f'변경 후 a값: {a}')\n",
    "print(f'b값: {b}')\n",
    "print(id(a), id(b))"
   ]
  },
  {
   "cell_type": "markdown",
   "metadata": {},
   "source": [
    "### immutable한 객체의 변수 간 대입\n",
    "- str 문자열의 얕은 복사\n",
    "    - list와 똑같이 b를 a에 할당하면 같은 메모리 주소를 참조\n",
    "    - 하지만 b에 다른 값을 할당하면 재할당이 이루어지며 메모리 주소가 변경됨\n",
    "    - a와 b는 다른 값을 가짐"
   ]
  },
  {
   "cell_type": "code",
   "execution_count": 16,
   "metadata": {},
   "outputs": [
    {
     "name": "stdout",
     "output_type": "stream",
     "text": [
      "a값: abc, b값: abc\n",
      "4342503832 4342503832\n",
      "a값: abc, b값: abcd\n",
      "4342503832 4414939568\n"
     ]
    }
   ],
   "source": [
    "a = \"abc\"\n",
    "b = a\n",
    "print(f'a값: {a}, b값: {b}')\n",
    "print(id(a), id(b))\n",
    "b = \"abcd\"\n",
    "print(f'a값: {a}, b값: {b}')\n",
    "print(id(a), id(b))"
   ]
  },
  {
   "cell_type": "markdown",
   "metadata": {},
   "source": [
    "- 얕은 복사(shallow copy)\n",
    "    - 리스트에서 copy(복사본)는 주소값의 결과를 가진 새로운 객체\n",
    "    - list 슬라이싱을 통해 새로운 값을 할당\n",
    "    - 얕게 복사한 결과 리스트가 원래 리스트를 통해서 변경할 경우 변경된 결과가 같은 id가 부여되며,\n",
    "    - 서로 영향을 받지 않는다"
   ]
  },
  {
   "cell_type": "code",
   "execution_count": 17,
   "metadata": {},
   "outputs": [
    {
     "name": "stdout",
     "output_type": "stream",
     "text": [
      "4414735744 4414483968 4414941632 4414327872\n",
      "a값: ['shallow copy', 2, 3], b값: [1, 2, 3]\n",
      "c값: [1, 2, 3], d값: [1, 2, 3]\n"
     ]
    }
   ],
   "source": [
    "import copy\n",
    "a = [1, 2, 3]\n",
    "b = a.copy()\n",
    "c = list(a)\n",
    "d = a[:]\n",
    "\n",
    "a[0] = \"shallow copy\"\n",
    "\n",
    "print(id(a), id(b), id(c), id(d))\n",
    "print(f'a값: {a}, b값: {b}')\n",
    "print(f'c값: {c}, d값: {d}')"
   ]
  },
  {
   "cell_type": "code",
   "execution_count": 18,
   "metadata": {},
   "outputs": [
    {
     "name": "stdout",
     "output_type": "stream",
     "text": [
      "4414472896 4414933376\n",
      "a값: [1, 2, 3], b값: [1, 2, 3]\n",
      "a is b: False\n",
      "a == b: True\n",
      "a값: [1, 2, 3], b값: [5, 2, 3]\n"
     ]
    }
   ],
   "source": [
    "a = [1, 2, 3]\n",
    "b = a[:]  # 얕은 복사\n",
    "print(id(a), id(b))\n",
    "print(f'a값: {a}, b값: {b}')\n",
    "print(f'a is b: {a is b}')  # 주소값의 결과로 인한 \"is\" 비교\n",
    "print(f'a == b: {a == b}')  # 값 자체의 결과로 인한 \"==\" 비교\n",
    "\n",
    "b[0] = 5\n",
    "print(f'a값: {a}, b값: {b}')"
   ]
  },
  {
   "cell_type": "markdown",
   "metadata": {},
   "source": [
    "- **리스트안에 리스트 mutable 객체에 의해 mutable 객체에 접근할 경우 문제가 됨**\n",
    "    - `id(a)` 값과 `id(b)` 값은 다르지만, 그 내부의 객체 `id(a[0])`과 `id(b[0])`은 같은 주소 값을 가짐"
   ]
  },
  {
   "cell_type": "code",
   "execution_count": 19,
   "metadata": {},
   "outputs": [
    {
     "name": "stdout",
     "output_type": "stream",
     "text": [
      "4414483968 4414937280\n",
      "a값: [[1, 2], [3, 4]], b값: [[1, 2], [3, 4]]\n",
      "4414937792 4414937792\n",
      "a[0]값: [1, 2], b[0]값: [1, 2]\n",
      "a값: [[8, 2], [3, 4]], b값: [[8, 2], [3, 4]]\n"
     ]
    }
   ],
   "source": [
    "a = [[1, 2], [3, 4]]\n",
    "b = a[:]\n",
    "print(id(a), id(b))\n",
    "print(f'a값: {a}, b값: {b}')\n",
    "print(id(a[0]), id(b[0]))\n",
    "print(f'a[0]값: {a[0]}, b[0]값: {b[0]}')\n",
    "\n",
    "a[0][0] = 8\n",
    "print(f'a값: {a}, b값: {b}')"
   ]
  },
  {
   "cell_type": "code",
   "execution_count": 20,
   "metadata": {},
   "outputs": [
    {
     "name": "stdout",
     "output_type": "stream",
     "text": [
      "4414838464 4414449216\n",
      "a값: [[1, 2], [3, 4]], b값: [[1, 2], [3, 4]]\n",
      "4414686976 4414686976\n",
      "a[0]값: [1, 2], b[0]값: [1, 2]\n",
      "a값: [[8, 9], [3, 4]], b값: [[1, 2], [3, 4]]\n"
     ]
    }
   ],
   "source": [
    "a = [[1, 2], [3, 4]]\n",
    "b = a[:]\n",
    "print(id(a), id(b))\n",
    "print(f'a값: {a}, b값: {b}')\n",
    "print(id(a[0]), id(b[0]))\n",
    "print(f'a[0]값: {a[0]}, b[0]값: {b[0]}')\n",
    "\n",
    "a[0] = [8, 9]\n",
    "print(f'a값: {a}, b값: {b}')"
   ]
  },
  {
   "cell_type": "markdown",
   "metadata": {},
   "source": [
    "- 재할당하는 경우 문제가 없음, 메모리 주소도 변경됨"
   ]
  },
  {
   "cell_type": "code",
   "execution_count": 9,
   "metadata": {},
   "outputs": [
    {
     "name": "stdout",
     "output_type": "stream",
     "text": [
      "4389704832 4390794432\n",
      "a:[[8, 9], [3, 4]], b:[[1, 2], [3, 4]]\n"
     ]
    }
   ],
   "source": [
    "a = [[1, 2], [3, 4]]\n",
    "b = a[:]\n",
    "a[0] = [8, 9]\n",
    "print(id(a), id(b))\n",
    "print(f'a:{a}, b:{b}')"
   ]
  },
  {
   "cell_type": "code",
   "execution_count": 10,
   "metadata": {},
   "outputs": [
    {
     "name": "stdout",
     "output_type": "stream",
     "text": [
      "4389703296 4389704320\n",
      "a:[[1, 2], [3, 4, 5]], b:[[1, 2], [3, 4, 5]]\n"
     ]
    }
   ],
   "source": [
    "# copy모듈의 copy메소드 또한 얕은 복사임\n",
    "import copy\n",
    "a = [[1, 2], [3, 4]]\n",
    "b = copy.copy(a)\n",
    "a[1].append(5)\n",
    "print(id(a), id(b))\n",
    "print(f'a:{a}, b:{b}')"
   ]
  },
  {
   "cell_type": "code",
   "execution_count": 11,
   "metadata": {},
   "outputs": [
    {
     "name": "stdout",
     "output_type": "stream",
     "text": [
      "4388356288 4390794432\n",
      "a:[[1, 2], [3, 4, 5]], b:[[1, 2], [3, 4, 5]]\n"
     ]
    }
   ],
   "source": [
    "a = [[1, 2], [3, 4]]\n",
    "b = a[:]\n",
    "a[1].append(5)\n",
    "print(id(a), id(b))\n",
    "print(f'a:{a}, b:{b}')"
   ]
  },
  {
   "cell_type": "code",
   "execution_count": 12,
   "metadata": {},
   "outputs": [
    {
     "name": "stdout",
     "output_type": "stream",
     "text": [
      "a:[[10, 2, 3], [4, 5, 6], [7, 8, 9]]\n",
      "b:[[10, 2, 3], [4, 5, 6], [7, 8, 9]]\n"
     ]
    }
   ],
   "source": [
    "a = [[1, 2, 3], [4, 5, 6], [7, 8, 9]]\n",
    "b = a[:]  # 얕은 복사 / 리스트\n",
    "b[0][0] = 10\n",
    "print(f'a:{a}')\n",
    "print(f'b:{b}')"
   ]
  },
  {
   "cell_type": "markdown",
   "metadata": {},
   "source": [
    "- 리스트 값이 모두 불변이면 copy() 메서드는 제대로 동작\n",
    "- 리스트, 튜플, 딕셔너리 같은 가변(mutable) 객체는 참조일 뿐이다\n",
    "- 원본과 복사본의 변경사항을 반영함"
   ]
  },
  {
   "cell_type": "code",
   "execution_count": 13,
   "metadata": {},
   "outputs": [
    {
     "name": "stdout",
     "output_type": "stream",
     "text": [
      "4389702848 4389703360 4379774272 4389704320\n",
      "a:[1, 2, [8, 9]], b:[1, 2, [8, 9]]\n",
      "c:[1, 2, [8, 9]], d:[1, 2, [8, 9]]\n"
     ]
    }
   ],
   "source": [
    "a = [1, 2, [8, 9]]\n",
    "b = a.copy()\n",
    "c = list(a)\n",
    "d = a[:]\n",
    "print(id(a), id(b), id(c), id(d))\n",
    "print(f'a:{a}, b:{b}')\n",
    "print(f'c:{c}, d:{d}')"
   ]
  },
  {
   "cell_type": "code",
   "execution_count": 14,
   "metadata": {},
   "outputs": [
    {
     "name": "stdout",
     "output_type": "stream",
     "text": [
      "4389702848 4389703360 4379774272 4389704320\n",
      "a:[1, 2, [8, 10]], b:[1, 2, [8, 10]]\n",
      "c:[1, 2, [8, 10]], d:[1, 2, [8, 10]]\n"
     ]
    }
   ],
   "source": [
    "# a[2]의 값이 리스트\n",
    "# 항목을 변경하면 얕은 복사는 모두 반영된다\n",
    "a[2][1] = 10\n",
    "print(id(a), id(b), id(c), id(d))\n",
    "print(f'a:{a}, b:{b}')\n",
    "print(f'c:{c}, d:{d}')"
   ]
  },
  {
   "cell_type": "code",
   "execution_count": 15,
   "metadata": {},
   "outputs": [
    {
     "name": "stdout",
     "output_type": "stream",
     "text": [
      "4390798720 4391409024\n",
      "a:[[1, 2], [3, 4]], b:[[1, 2], [3, 4]]\n",
      "4390796096 4390796096\n",
      "a[0]:[8, 9], b[0]:[1, 2]\n"
     ]
    }
   ],
   "source": [
    "a = [[1, 2], [3, 4]]\n",
    "b = a[:]\n",
    "print(id(a), id(b))\n",
    "print(f'a:{a}, b:{b}')\n",
    "print(id(a[0]), id(b[0]))\n",
    "a[0] = [8, 9]\n",
    "print(f'a[0]:{a[0]}, b[0]:{b[0]}')"
   ]
  },
  {
   "cell_type": "code",
   "execution_count": 17,
   "metadata": {},
   "outputs": [
    {
     "name": "stdout",
     "output_type": "stream",
     "text": [
      "4400262848 4400413888\n",
      "a:[1, 2, [8, 9]], b:[1, 2, [8, 9]]\n",
      "a[0]=1\n",
      "a[1]=2\n",
      "a[2]=[8, 9]\n",
      "a[2][0]=8\n",
      "a[2][1]=9\n"
     ]
    }
   ],
   "source": [
    "a = [1, 2, [8, 9]]\n",
    "b = a.copy()\n",
    "print(id(a), id(b))\n",
    "print(f'a:{a}, b:{b}')\n",
    "print(f'a[0]={a[0]}\\na[1]={a[1]}\\na[2]={a[2]}')\n",
    "print(f'a[2][0]={a[2][0]}\\na[2][1]={a[2][1]}')"
   ]
  },
  {
   "cell_type": "code",
   "execution_count": 18,
   "metadata": {},
   "outputs": [
    {
     "name": "stdout",
     "output_type": "stream",
     "text": [
      "4400262848 4400413888\n",
      "a:['a', 11, ['b', 22]], b:[1, 2, ['b', 22]]\n"
     ]
    }
   ],
   "source": [
    "a[0] = 'a'; a[1] = 11; a[2][0] = 'b'; a[2][1] = 22\n",
    "print(id(a), id(b))\n",
    "print(f'a:{a}, b:{b}')"
   ]
  },
  {
   "cell_type": "markdown",
   "metadata": {},
   "source": [
    "- 깊은 복사(deep copy)"
   ]
  },
  {
   "cell_type": "code",
   "execution_count": 19,
   "metadata": {},
   "outputs": [
    {
     "name": "stdout",
     "output_type": "stream",
     "text": [
      "4400537152 4400719104\n",
      "a:[1, 2, [8, 9]], b:[1, 2, [8, 9]]\n"
     ]
    }
   ],
   "source": [
    "# deepcopy\n",
    "import copy\n",
    "import numpy as np\n",
    "a = [1, 2, [8, 9]]\n",
    "b = copy.deepcopy(a)\n",
    "print(id(a), id(b))\n",
    "print(f'a:{a}, b:{b}')"
   ]
  },
  {
   "cell_type": "code",
   "execution_count": 20,
   "metadata": {},
   "outputs": [
    {
     "name": "stdout",
     "output_type": "stream",
     "text": [
      "4400537152 4400719104\n",
      "a:[1, 2, [8, 10]], b:[1, 2, [8, 9]]\n"
     ]
    }
   ],
   "source": [
    "# deepcopy: 변경이 반영되지 않는다\n",
    "a[2][1] = 10\n",
    "print(id(a), id(b))\n",
    "print(f'a:{a}, b:{b}')"
   ]
  },
  {
   "cell_type": "code",
   "execution_count": 21,
   "metadata": {},
   "outputs": [
    {
     "name": "stdout",
     "output_type": "stream",
     "text": [
      "4400537152 4400719104\n",
      "a:['a', 11, ['b', 22]], b:[1, 2, [8, 9]]\n"
     ]
    }
   ],
   "source": [
    "# deepcopy: 변경이 반영되지 않는다\n",
    "a[0] = 'a'; a[1] = 11; a[2][0] = 'b'; a[2][1] = 22\n",
    "print(id(a), id(b))\n",
    "print(f'a:{a}, b:{b}')"
   ]
  },
  {
   "cell_type": "markdown",
   "metadata": {},
   "source": [
    "- 깊은 복사는 내부에 객체들까지 모두 새롭게 copy되는 것\n",
    "- copy.deepcopy 메서드가 해결"
   ]
  },
  {
   "cell_type": "code",
   "execution_count": 22,
   "metadata": {},
   "outputs": [
    {
     "name": "stdout",
     "output_type": "stream",
     "text": [
      "4400355392 4391598144\n",
      "a:[[1, 2], [3, 4, 5]], b:[[1, 2], [3, 4]]\n"
     ]
    }
   ],
   "source": [
    "a = [[1,2],[3,4]]\n",
    "b = copy.deepcopy(a)\n",
    "a[1].append(5)\n",
    "print(id(a), id(b))\n",
    "print(f'a:{a}, b:{b}')"
   ]
  },
  {
   "cell_type": "markdown",
   "metadata": {},
   "source": [
    "- 배열 복사 : np.copy(arr)\n",
    "    - array를 복사해서 반환"
   ]
  },
  {
   "cell_type": "code",
   "execution_count": 23,
   "metadata": {},
   "outputs": [
    {
     "name": "stdout",
     "output_type": "stream",
     "text": [
      "4391298288 4391633712\n",
      "a:[3 2 3], b:[1 2 3]\n"
     ]
    }
   ],
   "source": [
    "a = np.array([1, 2, 3])\n",
    "b = np.copy(a)\n",
    "a[0] = 3\n",
    "print(id(a), id(b))\n",
    "print(f'a:{a}, b:{b}')"
   ]
  },
  {
   "cell_type": "code",
   "execution_count": 24,
   "metadata": {},
   "outputs": [
    {
     "name": "stdout",
     "output_type": "stream",
     "text": [
      "4391634288 4391298288\n",
      "a:[[3 3 3]\n",
      " [4 5 6]\n",
      " [7 8 9]]\n",
      "b:[[1 2 3]\n",
      " [4 5 6]\n",
      " [7 8 9]]\n"
     ]
    }
   ],
   "source": [
    "a = np.array([[1, 2, 3], [4, 5, 6], [7, 8, 9]])\n",
    "b = np.copy(a)\n",
    "a[0] = 3\n",
    "print(id(a), id(b))\n",
    "print(f'a:{a}')\n",
    "print(f'b:{b}')"
   ]
  },
  {
   "cell_type": "code",
   "execution_count": 25,
   "metadata": {},
   "outputs": [
    {
     "name": "stdout",
     "output_type": "stream",
     "text": [
      "4391633328 4391634288\n",
      "a:[[ 1 12  3]\n",
      " [ 4  5  6]\n",
      " [ 7  8  9]]\n",
      "b:[[1 2 3]\n",
      " [4 5 6]\n",
      " [7 8 9]]\n"
     ]
    }
   ],
   "source": [
    "a = np.array([[1, 2, 3], [4, 5, 6], [7, 8, 9]])\n",
    "b = np.copy(a)\n",
    "a[0][1] = 12\n",
    "print(id(a), id(b))\n",
    "print(f'a:{a}')\n",
    "print(f'b:{b}')"
   ]
  },
  {
   "cell_type": "code",
   "execution_count": 26,
   "metadata": {},
   "outputs": [
    {
     "name": "stdout",
     "output_type": "stream",
     "text": [
      "arr : [0 1 2 3 4 5 6 7 8 9]\n",
      "---------------\n",
      "arr[0] = 100 --> [100   1   2   3   4   5   6   7   8   9]\n",
      "---------------\n",
      "arr2 = arr[3:7].copy() --> [3 4 5 6]\n",
      "---------------\n",
      "arr : [100   1   2   3   4   5   6   7   8   9]\n",
      "arr2[:] = 70 --> [70 70 70 70]\n"
     ]
    }
   ],
   "source": [
    "arr = np.arange(10)\n",
    "print(f'arr : {arr}')\n",
    "print('---------------')\n",
    "arr[0] = 100\n",
    "print(f'arr[0] = 100 --> {arr}')\n",
    "print('---------------')\n",
    "arr2 = arr[3:7].copy()\n",
    "print(f'arr2 = arr[3:7].copy() --> {arr2}')\n",
    "print('---------------')\n",
    "arr2[:] = 70\n",
    "print(f'arr : {arr}')\n",
    "print(f'arr2[:] = 70 --> {arr2}')"
   ]
  },
  {
   "cell_type": "markdown",
   "metadata": {},
   "source": [
    "### dtype, type() 차이\n",
    "- numpy | np.array.dtype\n",
    "    - dtype는 numpy 배열의 요소 데이터 타입을 반환하는 numpy 배열의 속성\n",
    "- python | type()\n",
    "    - type는 지정된 객체의 유형을 반환하는 내장 python 함수"
   ]
  },
  {
   "cell_type": "code",
   "execution_count": 27,
   "metadata": {},
   "outputs": [
    {
     "name": "stdout",
     "output_type": "stream",
     "text": [
      "aa\n",
      "[[0 1 2]\n",
      " [3 4 5]]\n",
      "aa.dtype --> int64\n",
      "type(aa) --> <class 'numpy.ndarray'>\n"
     ]
    }
   ],
   "source": [
    "aa = np.arange(6).reshape(2, 3)\n",
    "print(f'aa\\n{aa}')\n",
    "print(f'aa.dtype --> {aa.dtype}')\n",
    "print(f'type(aa) --> {type(aa)}')\n",
    "\n"
   ]
  },
  {
   "cell_type": "code",
   "execution_count": 28,
   "metadata": {},
   "outputs": [
    {
     "name": "stdout",
     "output_type": "stream",
     "text": [
      "Machine parameters for int16\n",
      "---------------------------------------------------------------\n",
      "min = -32768\n",
      "max = 32767\n",
      "---------------------------------------------------------------\n",
      "\n",
      "Machine parameters for int32\n",
      "---------------------------------------------------------------\n",
      "min = -2147483648\n",
      "max = 2147483647\n",
      "---------------------------------------------------------------\n",
      "\n",
      "Machine parameters for int64\n",
      "---------------------------------------------------------------\n",
      "min = -9223372036854775808\n",
      "max = 9223372036854775807\n",
      "---------------------------------------------------------------\n",
      "\n",
      "Machine parameters for uint64\n",
      "---------------------------------------------------------------\n",
      "min = 0\n",
      "max = 18446744073709551615\n",
      "---------------------------------------------------------------\n",
      "\n"
     ]
    }
   ],
   "source": [
    "# numpy 숫자형이 취할 수 있는 범위 (최소값, 최대값) 확인\n",
    "print(np.iinfo('int16'))\n",
    "print(np.iinfo('i4'))\n",
    "print(np.iinfo(int))\n",
    "print(np.iinfo('uint64'))"
   ]
  },
  {
   "cell_type": "markdown",
   "metadata": {},
   "source": [
    "### 배열 데이터의 파일 입출력\n",
    "- 저장 및 로딩\n",
    "    - np.save() -> np.load() : 객체를 저장, 로딩\n",
    "        - np형식으로 저장\n",
    "        - 저장할 때와 동일한 형식으로 로딩됨\n",
    "    - np.savetxt() -> np.loadtxt()  : 파일로 저장, 로딩\n",
    "        - 텍스트 형식으로 저장\n",
    "        - 저장할 떄의 데이터 형식을 유지하지 못함"
   ]
  },
  {
   "cell_type": "code",
   "execution_count": 29,
   "metadata": {},
   "outputs": [
    {
     "name": "stdout",
     "output_type": "stream",
     "text": [
      "[0 1 2 3 4 5 6 7 8 9]\n"
     ]
    },
    {
     "data": {
      "text/plain": [
       "array([0, 1, 2, 3, 4, 5, 6, 7, 8, 9])"
      ]
     },
     "execution_count": 29,
     "metadata": {},
     "output_type": "execute_result"
    }
   ],
   "source": [
    "arr = np.arange(10)\n",
    "print(arr)\n",
    "np.save('some_array', arr)\n",
    "np.load('some_array.npy')"
   ]
  },
  {
   "cell_type": "code",
   "execution_count": 30,
   "metadata": {},
   "outputs": [
    {
     "name": "stdout",
     "output_type": "stream",
     "text": [
      "[0 1 2 3 4 5 6 7 8 9]\n"
     ]
    },
    {
     "data": {
      "text/plain": [
       "array([0., 1., 2., 3., 4., 5., 6., 7., 8., 9.])"
      ]
     },
     "execution_count": 30,
     "metadata": {},
     "output_type": "execute_result"
    }
   ],
   "source": [
    "arr1 = np.arange(10)\n",
    "print(arr1)\n",
    "np.savetxt('some_array1', arr1)\n",
    "np.loadtxt('some_array1')"
   ]
  }
 ],
 "metadata": {
  "kernelspec": {
   "display_name": "mlpython",
   "language": "python",
   "name": "python3"
  },
  "language_info": {
   "codemirror_mode": {
    "name": "ipython",
    "version": 3
   },
   "file_extension": ".py",
   "mimetype": "text/x-python",
   "name": "python",
   "nbconvert_exporter": "python",
   "pygments_lexer": "ipython3",
   "version": "3.11.9"
  }
 },
 "nbformat": 4,
 "nbformat_minor": 2
}
