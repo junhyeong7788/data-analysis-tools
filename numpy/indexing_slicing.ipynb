{
 "cells": [
  {
   "cell_type": "markdown",
   "metadata": {},
   "source": [
    "## Numpy_indexing and slicing\n",
    "- numpy 배열의  인덱싱과 슬라이싱은 파이썬 리스트의 인덱싱, 슬라이싱과 동일\n",
    "    - 인덱싱 : 값, 슬라이싱 : 배열"
   ]
  },
  {
   "cell_type": "code",
   "execution_count": 1,
   "metadata": {},
   "outputs": [],
   "source": [
    "import numpy as np"
   ]
  },
  {
   "cell_type": "markdown",
   "metadata": {},
   "source": [
    "### 1차원 배열 인덱싱과 슬라이싱 방법"
   ]
  },
  {
   "cell_type": "code",
   "execution_count": 3,
   "metadata": {},
   "outputs": [
    {
     "name": "stdout",
     "output_type": "stream",
     "text": [
      "[0 1 2 3 4 5 6 7 8 9] \n",
      "\n",
      "1\n",
      "[0 1 2 3 4 5]\n",
      "[0 1 2 3 4] \n",
      "\n",
      "[0 2 4 6 8]\n",
      "[1 3 5 7 9]\n",
      "[1 3 5] \n",
      "\n",
      "[7 8]\n",
      "[0 1 2 3 4 5 6]\n",
      "[7 6 5 4 3] \n",
      "\n",
      "[]\n",
      "[5 6 7 8 9]\n",
      "[1 2 3 4 5 6 7 8 9]\n"
     ]
    }
   ],
   "source": [
    "arr1 = np.arange(10)\n",
    "print(arr1,'\\n')\n",
    "print(arr1[1])\n",
    "print(arr1[:6])\n",
    "print(arr1[0:5],'\\n')\n",
    "print(arr1[::2])\n",
    "print(arr1[1::2])\n",
    "print(arr1[1:7:2],'\\n')\n",
    "print(arr1[-3:9])\n",
    "print(arr1[:-3])\n",
    "print(arr1[-3:2:-1],'\\n')\n",
    "print(arr1[5:2])\n",
    "print(arr1[5:])\n",
    "print(arr1[1:])"
   ]
  },
  {
   "cell_type": "markdown",
   "metadata": {},
   "source": [
    "- 부분집합의 값이 변경되면 원래 배열의 값도 변경\n",
    "    - 배열의 부분 집합을 추출했을 때 부분 집합에 새로운 값이 복사되는 것이 아니라, 부분 집합이 원래 배열과 메모리를 공유함"
   ]
  },
  {
   "cell_type": "code",
   "execution_count": 4,
   "metadata": {},
   "outputs": [
    {
     "name": "stdout",
     "output_type": "stream",
     "text": [
      "[0 1 2 3 4 5 6 7 8 9]\n",
      "[100   1   2   3   4   5   6   7   8   9]\n",
      "-----------\n",
      "[3 4 5 6]\n",
      "-----------\n",
      "[90 90 90 90]\n",
      "[100   1   2  90  90  90  90   7   8   9]\n"
     ]
    }
   ],
   "source": [
    "arr = np.arange(10)\n",
    "print(arr)\n",
    "arr[0] = 100\n",
    "print(arr)\n",
    "print('-----------')\n",
    "arr1 = arr[3:7]\n",
    "print(arr1)\n",
    "print('-----------')\n",
    "arr1[:] = 90\n",
    "print(arr1)\n",
    "print(arr)"
   ]
  },
  {
   "cell_type": "markdown",
   "metadata": {},
   "source": [
    "### 2차원 배열 인덱싱과 슬라이싱 방법"
   ]
  },
  {
   "cell_type": "code",
   "execution_count": 5,
   "metadata": {},
   "outputs": [
    {
     "name": "stdout",
     "output_type": "stream",
     "text": [
      "[[0 1 2]\n",
      " [3 4 5]\n",
      " [6 7 8]] \n",
      "\n",
      "7\n",
      "[[0 1]\n",
      " [3 4]]\n",
      "[[2 1 0]\n",
      " [5 4 3]\n",
      " [8 7 6]] \n",
      "\n",
      "[[0 1 2]\n",
      " [3 4 5]\n",
      " [6 7 8]]\n",
      "[3 4 5]\n",
      "5\n"
     ]
    }
   ],
   "source": [
    "arr2 = np.arange(9).reshape(3, 3)\n",
    "print(arr2, '\\n')\n",
    "print(arr2[2, 1])\n",
    "print(arr2[:2, :2])\n",
    "print(arr2[:, ::-1], '\\n')\n",
    "print(arr2[:, :])\n",
    "print(arr2[1, :])\n",
    "print(arr2[1, 2])"
   ]
  },
  {
   "cell_type": "code",
   "execution_count": 6,
   "metadata": {},
   "outputs": [
    {
     "name": "stdout",
     "output_type": "stream",
     "text": [
      "[[0 1 2]\n",
      " [3 4 5]\n",
      " [6 7 8]]\n",
      "-----------\n",
      "[[0 1]\n",
      " [3 4]]\n"
     ]
    }
   ],
   "source": [
    "arr2 = np.arange(9).reshape(3, 3)\n",
    "print(arr2)\n",
    "print('-----------')\n",
    "print(arr2[0:2, 0:2])\n"
   ]
  },
  {
   "cell_type": "code",
   "execution_count": 10,
   "metadata": {},
   "outputs": [
    {
     "name": "stdout",
     "output_type": "stream",
     "text": [
      "arr[rows, columns]\n",
      "[[ 0  2]\n",
      " [11  1]]\n",
      "(2, 2)\n"
     ]
    }
   ],
   "source": [
    "arr = np.array([[0, 1, 2],\n",
    "                [3, 4, 5],\n",
    "                [6, 7, 8],\n",
    "                [9, 10, 11]])\n",
    "\n",
    "rows = np.array([[0, 0], [3, 0]], dtype=int)\n",
    "columns = np.array([[0, 2], [2, 1]], dtype=int)\n",
    "\n",
    "print(f'arr[rows, columns]\\n{arr[rows, columns]}')\n",
    "print(arr[rows, columns].shape)"
   ]
  },
  {
   "cell_type": "code",
   "execution_count": 11,
   "metadata": {},
   "outputs": [
    {
     "name": "stdout",
     "output_type": "stream",
     "text": [
      "arr[rows, columns]\n",
      "[[ 0  2]\n",
      " [11  1]]\n",
      "(2, 2)\n"
     ]
    }
   ],
   "source": [
    "arr = np.array([[0, 1, 2],\n",
    "                [3, 4, 5],\n",
    "                [6, 7, 8],\n",
    "                [9, 10, 11]])\n",
    "\n",
    "rows = np.array([[0, 0], [3, 0]], dtype=np.intp)\n",
    "columns = np.array([[0, 2], [2, 1]], dtype=np.intp)\n",
    "\n",
    "print(f'arr[rows, columns]\\n{arr[rows, columns]}')\n",
    "print(arr[rows, columns].shape)"
   ]
  },
  {
   "cell_type": "code",
   "execution_count": 7,
   "metadata": {},
   "outputs": [
    {
     "name": "stdout",
     "output_type": "stream",
     "text": [
      "[[ 0  1  2  3]\n",
      " [ 4  5  6  7]\n",
      " [ 8  9 10 11]\n",
      " [12 13 14 15]]\n"
     ]
    }
   ],
   "source": [
    "arr=np.arange(16).reshape(4,4)\n",
    "print(arr)"
   ]
  },
  {
   "cell_type": "code",
   "execution_count": 8,
   "metadata": {},
   "outputs": [
    {
     "data": {
      "text/plain": [
       "array([[ 4,  5,  6,  7],\n",
       "       [12, 13, 14, 15]])"
      ]
     },
     "execution_count": 8,
     "metadata": {},
     "output_type": "execute_result"
    }
   ],
   "source": [
    "arr[[1, 3], :]      #1행과 3행을 추출"
   ]
  },
  {
   "cell_type": "code",
   "execution_count": 9,
   "metadata": {},
   "outputs": [
    {
     "data": {
      "text/plain": [
       "array([ 5, 15])"
      ]
     },
     "execution_count": 9,
     "metadata": {},
     "output_type": "execute_result"
    }
   ],
   "source": [
    "arr[[1, 3], [1, 3]]     #1행1열과 3행3열을 추출"
   ]
  },
  {
   "cell_type": "markdown",
   "metadata": {},
   "source": [
    "### 3차원 배열 인덱싱과 슬라이싱 방법"
   ]
  },
  {
   "cell_type": "code",
   "execution_count": 12,
   "metadata": {},
   "outputs": [
    {
     "name": "stdout",
     "output_type": "stream",
     "text": [
      "[[[ 0  1  2  3]\n",
      "  [ 4  5  6  7]\n",
      "  [ 8  9 10 11]]\n",
      "\n",
      " [[12 13 14 15]\n",
      "  [16 17 18 19]\n",
      "  [20 21 22 23]]] \n",
      "\n",
      "18\n",
      "23\n",
      "[1 5 9] \n",
      "\n",
      "[[12 13 14 15]\n",
      " [16 17 18 19]\n",
      " [20 21 22 23]] \n",
      "\n",
      "[[ 4  5]\n",
      " [16 17]]\n"
     ]
    }
   ],
   "source": [
    "arr3 = np.reshape(np.arange(24), (2, 3, 4))\n",
    "print(arr3, '\\n')\n",
    "print(arr3[1,1,2])\n",
    "print(arr3[1][2][3])\n",
    "print(arr3[0, :, 1], '\\n')\n",
    "print(arr3[1, :, :], '\\n')\n",
    "print(arr3[:2, 1, :2])"
   ]
  },
  {
   "cell_type": "markdown",
   "metadata": {},
   "source": [
    "- ndarray 객체 사용을 위한 메소드\n",
    "\n",
    "    | 메소드 | 설명 |\n",
    "    | :---: | :---: |\n",
    "    | sum() | 배열 원소들의 합 |\n",
    "    | mean() | 배열 원소들의 평균 |\n",
    "    | max() | 배열 원소들 중 최대값 |\n",
    "    | min() | 배열 원소들 중 최소값 |\n",
    "    | argmax() | 배열 원소들 중 최대값의 인덱스 |\n",
    "    | argmin() | 배열 원소들 중 최소값의 인덱스 |\n",
    "    | where() | 조건에 따라 선별적으로 값을 선택 |\n",
    "    | sort() | 배열을 정렬 |"
   ]
  },
  {
   "cell_type": "markdown",
   "metadata": {},
   "source": [
    "### 논리적 인덱싱"
   ]
  },
  {
   "cell_type": "code",
   "execution_count": 13,
   "metadata": {},
   "outputs": [
    {
     "name": "stdout",
     "output_type": "stream",
     "text": [
      "[False False  True  True  True]\n",
      "[25 30 28]\n"
     ]
    }
   ],
   "source": [
    "ages = np.array([18, 19, 25, 30, 28])\n",
    "y = ages > 20\n",
    "print(y)\n",
    "print(ages[ages > 20])"
   ]
  },
  {
   "cell_type": "code",
   "execution_count": 14,
   "metadata": {},
   "outputs": [
    {
     "data": {
      "text/plain": [
       "array([[False, False, False],\n",
       "       [False, False,  True],\n",
       "       [ True,  True,  True]])"
      ]
     },
     "execution_count": 14,
     "metadata": {},
     "output_type": "execute_result"
    }
   ],
   "source": [
    "np_array = np.array([[1, 2, 3], [4, 5, 6], [7, 8, 9]])\n",
    "np_array > 5      #상수를 가지고 비교 연산자를 사용하면 배열의 크기에 맞춰서 True, False로 반환"
   ]
  },
  {
   "cell_type": "code",
   "execution_count": 15,
   "metadata": {},
   "outputs": [
    {
     "data": {
      "text/plain": [
       "array([6, 7, 8, 9])"
      ]
     },
     "execution_count": 15,
     "metadata": {},
     "output_type": "execute_result"
    }
   ],
   "source": [
    "np_array[np_array > 5]"
   ]
  },
  {
   "cell_type": "code",
   "execution_count": 16,
   "metadata": {},
   "outputs": [
    {
     "data": {
      "text/plain": [
       "array([4, 5, 6, 7])"
      ]
     },
     "execution_count": 16,
     "metadata": {},
     "output_type": "execute_result"
    }
   ],
   "source": [
    "np_array[(np_array > 3) & (np_array < 8)]"
   ]
  },
  {
   "cell_type": "code",
   "execution_count": 17,
   "metadata": {},
   "outputs": [
    {
     "data": {
      "text/plain": [
       "array([False,  True,  True])"
      ]
     },
     "execution_count": 17,
     "metadata": {},
     "output_type": "execute_result"
    }
   ],
   "source": [
    "np_array[:, 2] > 5"
   ]
  },
  {
   "cell_type": "code",
   "execution_count": 18,
   "metadata": {},
   "outputs": [
    {
     "data": {
      "text/plain": [
       "array([3, 6, 9])"
      ]
     },
     "execution_count": 18,
     "metadata": {},
     "output_type": "execute_result"
    }
   ],
   "source": [
    "np_array[:, 2]"
   ]
  },
  {
   "cell_type": "markdown",
   "metadata": {},
   "source": [
    "- 배열에서 특정 조건을 만족하는 행만 추출"
   ]
  },
  {
   "cell_type": "code",
   "execution_count": 19,
   "metadata": {},
   "outputs": [
    {
     "name": "stdout",
     "output_type": "stream",
     "text": [
      "몸무게가 80 이상인 선수 정보\n",
      "[[183.   86.2]\n",
      " [176.   80.1]]\n",
      "키가 175 이상인 선수 정보\n",
      "[[183.   86.2]\n",
      " [181.   78.5]\n",
      " [176.   80.1]]\n"
     ]
    }
   ],
   "source": [
    "players = [[170, 76.4],\n",
    "           [183, 86.2],\n",
    "           [181, 78.5],\n",
    "           [176, 80.1]]\n",
    "np_players = np.array(players)\n",
    "\n",
    "print('몸무게가 80 이상인 선수 정보');\n",
    "print(np_players[np_players[:, 1]>=80.0])\n",
    "\n",
    "print('키가 175 이상인 선수 정보');\n",
    "print(np_players[np_players[:, 0] >= 175.0])"
   ]
  },
  {
   "cell_type": "code",
   "execution_count": 20,
   "metadata": {},
   "outputs": [
    {
     "name": "stdout",
     "output_type": "stream",
     "text": [
      "[[183.   86.2]]\n"
     ]
    }
   ],
   "source": [
    "players = [[170, 76.4],\n",
    "           [183, 86.2],\n",
    "           [181, 78.5],\n",
    "           [176, 80.1]]\n",
    "np_players = np.array(players)\n",
    "print(np_players[(np_players[:, 0] >= 180.0) & (np_players[:, 1] >= 80.0)])"
   ]
  },
  {
   "cell_type": "code",
   "execution_count": 21,
   "metadata": {},
   "outputs": [
    {
     "name": "stdout",
     "output_type": "stream",
     "text": [
      "[[ 1.76  1.69]\n",
      " [74.   59.  ]]\n",
      "1.76\n",
      "[[ 1.83  1.76  1.69  1.86  1.77  1.73]\n",
      " [86.   74.   59.   95.   80.   68.  ]]\n",
      "-------\n",
      "x shape : (2, 6)\n",
      "y shape : (2, 2)\n",
      "z1 shape : ()\n",
      "z2 shape : (2, 6)\n",
      "BMI data\n",
      "[0.00024743 0.0003214  0.00048549 0.00020609 0.00027656 0.00037413]\n"
     ]
    }
   ],
   "source": [
    "x = np.array([[1.83, 1.76, 1.69, 1.86, 1.77, 1.73],\n",
    "              [86.0, 74.0, 59.0, 95.0, 80.0, 68.0]])\n",
    "y = x[0:2, 1:3]\n",
    "z1 = x[0][1]\n",
    "z2 = x[0:]\n",
    "\n",
    "print(y)\n",
    "print(z1)\n",
    "print(z2)\n",
    "print('-------')\n",
    "\n",
    "print('x shape :', x.shape)\n",
    "print('y shape :', y.shape)\n",
    "print('z1 shape :', z1.shape)\n",
    "print('z2 shape :', z2.shape)\n",
    "\n",
    "bmi = x[0] / (x[1]**2)\n",
    "print('BMI data')\n",
    "print(bmi)"
   ]
  }
 ],
 "metadata": {
  "kernelspec": {
   "display_name": "mlpython",
   "language": "python",
   "name": "python3"
  },
  "language_info": {
   "codemirror_mode": {
    "name": "ipython",
    "version": 3
   },
   "file_extension": ".py",
   "mimetype": "text/x-python",
   "name": "python",
   "nbconvert_exporter": "python",
   "pygments_lexer": "ipython3",
   "version": "3.11.9"
  }
 },
 "nbformat": 4,
 "nbformat_minor": 2
}
