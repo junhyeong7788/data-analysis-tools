{
 "cells": [
  {
   "cell_type": "markdown",
   "metadata": {},
   "source": [
    "## Python list와 Numpy array\n",
    "- `python list` : 단일 리스트 내에 다양한 종류의 데이터 포함\n",
    "    - 리스트는 다양한 자료형의 데이터를 여러 개 저장 가능, 데이터를 변경하거나 추가, 제거할 수 있다.\n",
    "- `numpy array`\n",
    "    - **수학 및 과학을 위한 파이썬 패키지**\n",
    "    - 넘파이 배열은 모든 요소가 같은 종류의 데이터로 구성\n",
    "    - 넘파이 배열은 파이썬 리스트보다 빠르고 간결하며 훨씬 더 적은 메모리를 사용\n",
    "        - 대용량 데이터 배열을 효율적으로 다룰 수 있다\n",
    "        - 넘파이 연산은 파이썬 반복문을 사용하지 않고 전체 배열에 대한 복잡한 계산 수행\n",
    "        - 판다스, opencv 등 유명한 라이브러리가 넘파이 기반\n",
    "    - 배열의 내용을 한번에 디스크에 저장하고, 다시 불러오는 기능을 제공\n",
    "    - C, C++ 로 작성한 코드와 연결 가능\n",
    "\n",
    "### Numpy ndarray\n",
    "- ndarray 클래스 : 다차원 배열 객체\n",
    "    - N차원의 배열 객체\n",
    "        - 대규모 데이터 집합을 담을 수 있는 빠르고 유연한 자료 구조\n",
    "        - C언어에 기반한 배열 구조이므로 메모리를 적게 차지하고 속도가 빠르다.\n",
    "        - 배열과 배열 간에 수학적인 연산을 적용할 수 있다\n",
    "        - 고급 연산자와 풍부한 함수들을 제공\n",
    "    - 1차원 배열 : vectorm 2차원 배열 : matrix, 3차원 배열 : tensor\n",
    "    - 배열 내부의 각 요소 : index라고 불리는 정수들로 참조\n",
    "    - 넘파이에서 차원은 **축(axis)** 이라고 부른다\n",
    "\n",
    "- 다차원 배열의 속성\n",
    "    - 배열은 고정 크기의 동일한 유형 및 크기의 항목으로 구성\n",
    "    - 배열의 차원 및 항목 수는 배열의 모양에 의해 정의\n",
    "        - 배열의 모양(shape) : 각 차원의 크기를 지정하는 음이 아닌 정수의 튜플로 나타낸다.\n",
    "\n",
    "    | 속성 | 설명 |\n",
    "    |:---:|:---:|\n",
    "    | ndim | 배열의 축(차원)의 개수 |\n",
    "    | shape | 배열의 차원을 나타내는 정수의 튜플 |\n",
    "    | size | 배열의 요소의 총 개수 |\n",
    "    | dtype | 배열 요소의 데이터 유형 |\n",
    "    | itemsize | 배열의 각 요소의 크기(바이트) |\n",
    "    | data | 배열의 실제 요소를 포함하는 버퍼 |\n",
    "    | strides | 배열의 각 차원을 따라 이동하기 위해 필요한 바이트 수 |\n",
    "  \n",
    "### Numpy 배열 생성\n",
    "- 넘파이는 주로 1차원, 2차원, 3차원 등의 배열을 처리하기 위한 용도로 만들어짐\n",
    "\n",
    "    | numpy 함수 | 설명 |\n",
    "    |:---:|:---:|\n",
    "    | np.array | 파이썬 리스트를 넘파이 배열로 변환, 변환 시 데이터 형 지정 가능 |\n",
    "    | np.arange | range 함수와 유사, 배열을 생성 |\n",
    "    | np.ones, np.zeros | 1 또는 0으로 채워진 배열 생성 |\n",
    "    | np.empty | 초기화되지 않은 배열 생성 (쓰레기값이 들어있다.) |\n",
    "    | np.full | 지정된 상수로 배열 생성 |\n",
    "    | np.identity | 단위 행렬 생성 |"
   ]
  },
  {
   "cell_type": "code",
   "execution_count": 2,
   "metadata": {},
   "outputs": [],
   "source": [
    "import numpy as np"
   ]
  },
  {
   "cell_type": "code",
   "execution_count": 6,
   "metadata": {},
   "outputs": [
    {
     "name": "stdout",
     "output_type": "stream",
     "text": [
      "[[1 2 3]\n",
      " [4 5 6]]\n"
     ]
    }
   ],
   "source": [
    "arr2 = np.array([[1,2,3], [4,5,6]])\n",
    "print(arr2)"
   ]
  },
  {
   "cell_type": "code",
   "execution_count": 7,
   "metadata": {},
   "outputs": [
    {
     "name": "stdout",
     "output_type": "stream",
     "text": [
      "[[1 2 3]\n",
      " [4 5 6]]\n",
      "(2, 3)\n",
      "2\n"
     ]
    },
    {
     "data": {
      "text/plain": [
       "dtype('int64')"
      ]
     },
     "execution_count": 7,
     "metadata": {},
     "output_type": "execute_result"
    }
   ],
   "source": [
    "arr2 = np.array([[1,2,3], [4,5,6]])\n",
    "print(arr2)             #배열 출력\n",
    "print(arr2.shape)       #행렬의 크기\n",
    "print(arr2.ndim)        #배열 축 혹은 차원의 개수를 반환\n",
    "arr2.dtype              #배열 요소의 데이터 타입을 반환"
   ]
  },
  {
   "cell_type": "code",
   "execution_count": 10,
   "metadata": {},
   "outputs": [
    {
     "name": "stdout",
     "output_type": "stream",
     "text": [
      "[1 2 3] \n",
      "\n",
      "[[1 2 3]\n",
      " [4 5 6]\n",
      " [7 8 9]] \n",
      "\n",
      "[[[ 1  2]\n",
      "  [ 3  4]]\n",
      "\n",
      " [[ 5  6]\n",
      "  [ 7  8]]\n",
      "\n",
      " [[ 9 10]\n",
      "  [11 12]]] \n",
      "\n",
      "1 2 4\n"
     ]
    }
   ],
   "source": [
    "a = np.array([1,2,3])                                                   #1차원 배열\n",
    "b = np.array([[1,2,3], [4,5,6], [7,8,9]])                               #2차원 배열\n",
    "c = np.array([[[1, 2], [3, 4]], [[5, 6], [7, 8]], [[9, 10], [11, 12]]])         #3차원 배열\n",
    "print(a, '\\n')                #1차원 배열 출력    \n",
    "print(b, '\\n')                #2차원 배열 출력\n",
    "print(c, '\\n')                #3차원 배열 출력\n",
    "print(a[0], b[0][1], c[0][1][1])   #0번째 요소 출력, 0번째 요소의 1번째 요소 출력, 0번째 요소의 1번째 요소의 1번째 요소 출력"
   ]
  },
  {
   "cell_type": "code",
   "execution_count": 11,
   "metadata": {},
   "outputs": [
    {
     "name": "stdout",
     "output_type": "stream",
     "text": [
      "(3,) 1 3\n",
      "(3, 3) 2 9\n",
      "(3, 2, 2) 3 12\n"
     ]
    }
   ],
   "source": [
    "print(a.shape, a.ndim, a.size)     \n",
    "print(b.shape, b.ndim, b.size)\n",
    "print(c.shape, c.ndim, c.size)                                    #1차원 배열의 크기, 차원, 데이터 타입"
   ]
  },
  {
   "cell_type": "markdown",
   "metadata": {},
   "source": [
    "### Numpy 데이터 자료형\n",
    "- 파이썬 리스트와 달리 넘파이 배열은 데이터 형식을 지정\n",
    "- dtype : 넘파이 배열 데이터의 자료형 확인 및 지정\n",
    "- astype() : 이미 지정된 데이터 자료형을 변경\n",
    "\n",
    "    | 데이터 타입 | 설명 |\n",
    "    |:---:|:---:|\n",
    "    | int8, int16, int32, int64 | 부호가 있는 정수 |\n",
    "    | uint8, uint16, uint32, uint64 | 부호가 없는 정수 |\n",
    "    | float16, float32, float64, float128 | 부동 소수점 수 |\n",
    "    | bool | 불리언 |\n",
    "    | string_ | 영문 기준 문자열 |\n",
    "    | unicode_ | 한글 등, 기준 문자열 |"
   ]
  },
  {
   "cell_type": "code",
   "execution_count": 12,
   "metadata": {},
   "outputs": [
    {
     "name": "stdout",
     "output_type": "stream",
     "text": [
      "[1 2 3 4]\n"
     ]
    },
    {
     "data": {
      "text/plain": [
       "dtype('int32')"
      ]
     },
     "execution_count": 12,
     "metadata": {},
     "output_type": "execute_result"
    }
   ],
   "source": [
    "# 데이터 자료형 지정 방법 1\n",
    "a = np.array([1, 2, 3, 4], dtype = np.int32)        # 정수형 배열\n",
    "print(a)\n",
    "a.dtype"
   ]
  },
  {
   "cell_type": "code",
   "execution_count": 13,
   "metadata": {},
   "outputs": [
    {
     "name": "stdout",
     "output_type": "stream",
     "text": [
      "[1 2 3 4]\n"
     ]
    },
    {
     "data": {
      "text/plain": [
       "dtype('int32')"
      ]
     },
     "execution_count": 13,
     "metadata": {},
     "output_type": "execute_result"
    }
   ],
   "source": [
    "# 데이터 자료형 지정 방법 2\n",
    "a = np.array([1, 2, 3, 4], dtype = 'int32')        #정수형 배열\n",
    "print(a)\n",
    "a.dtype"
   ]
  },
  {
   "cell_type": "code",
   "execution_count": 14,
   "metadata": {},
   "outputs": [
    {
     "name": "stdout",
     "output_type": "stream",
     "text": [
      "[1 2 3 4]\n",
      "int32\n",
      "[1. 2. 3. 4.]\n",
      "int32\n",
      "float64\n"
     ]
    }
   ],
   "source": [
    "a = np.array([1, 2, 3, 4], dtype = 'int32')\n",
    "print(a)\n",
    "print(a.dtype)\n",
    "print(a.astype(float))\n",
    "print(a.dtype)\n",
    "\n",
    "b = a.astype(float)\n",
    "print(b.dtype)"
   ]
  },
  {
   "cell_type": "markdown",
   "metadata": {},
   "source": [
    "- 파이썬에는 배열 데이터 구조가 없으며 리스트를 이용해 유사 배열 (array-like)을 만든다.\n",
    "- 넘파이 배열 : 유사 배열인 리스트 데이터를 입력해 처리한 결과를 말한다 -> ndarray 객체"
   ]
  },
  {
   "cell_type": "code",
   "execution_count": 18,
   "metadata": {},
   "outputs": [
    {
     "name": "stdout",
     "output_type": "stream",
     "text": [
      "[0.  2.  5.5 7. ]\n",
      "float64\n"
     ]
    }
   ],
   "source": [
    "# 리스트로 넘파이 배열(1차원) 생성\n",
    "import numpy as np\n",
    "arr1 = np.array([0, 2, 5.5, 7])\n",
    "print(arr1)\n",
    "print(arr1.dtype)"
   ]
  },
  {
   "cell_type": "code",
   "execution_count": 19,
   "metadata": {},
   "outputs": [
    {
     "name": "stdout",
     "output_type": "stream",
     "text": [
      "[0.  2.  5.5 7. ]\n"
     ]
    }
   ],
   "source": [
    "# 리스트로 넘파이 배열(1차원) 생성\n",
    "list1 = [0, 2, 5.5, 7]\n",
    "arr1 = np.array(list1)\n",
    "print(arr1)"
   ]
  },
  {
   "cell_type": "code",
   "execution_count": 20,
   "metadata": {},
   "outputs": [
    {
     "name": "stdout",
     "output_type": "stream",
     "text": [
      "[1 2 3 4]\n",
      "<class 'numpy.ndarray'>\n",
      "int64\n",
      "[1.2 3.  5.1]\n",
      "<class 'numpy.ndarray'>\n",
      "float64\n"
     ]
    }
   ],
   "source": [
    "a = np.array([1, 2, 3, 4])\n",
    "print(a)\n",
    "print(type(a))\n",
    "print(a.dtype)\n",
    "\n",
    "b = np.array([1.2, 3, 5.1])\n",
    "print(b)\n",
    "print(type(b))\n",
    "print(b.dtype)"
   ]
  },
  {
   "cell_type": "markdown",
   "metadata": {},
   "source": [
    "### 배열 생성 함수 (초기화)\n",
    "- `np.zeros()`: 배열의 shape를 인자로 넘기면, 모든 요소가 0인 배열을 생성"
   ]
  },
  {
   "cell_type": "code",
   "execution_count": 21,
   "metadata": {},
   "outputs": [
    {
     "data": {
      "text/plain": [
       "array([0., 0., 0., 0., 0.])"
      ]
     },
     "execution_count": 21,
     "metadata": {},
     "output_type": "execute_result"
    }
   ],
   "source": [
    "arr = np.zeros(5)\n",
    "arr"
   ]
  },
  {
   "cell_type": "code",
   "execution_count": 22,
   "metadata": {},
   "outputs": [
    {
     "data": {
      "text/plain": [
       "numpy.ndarray"
      ]
     },
     "execution_count": 22,
     "metadata": {},
     "output_type": "execute_result"
    }
   ],
   "source": [
    "type(arr)"
   ]
  },
  {
   "cell_type": "code",
   "execution_count": 23,
   "metadata": {},
   "outputs": [
    {
     "data": {
      "text/plain": [
       "(5,)"
      ]
     },
     "execution_count": 23,
     "metadata": {},
     "output_type": "execute_result"
    }
   ],
   "source": [
    "arr.shape"
   ]
  },
  {
   "cell_type": "code",
   "execution_count": 25,
   "metadata": {},
   "outputs": [
    {
     "data": {
      "text/plain": [
       "dtype('float64')"
      ]
     },
     "execution_count": 25,
     "metadata": {},
     "output_type": "execute_result"
    }
   ],
   "source": [
    "arr.dtype"
   ]
  },
  {
   "cell_type": "code",
   "execution_count": 26,
   "metadata": {},
   "outputs": [
    {
     "data": {
      "text/plain": [
       "array([[0., 0.],\n",
       "       [0., 0.],\n",
       "       [0., 0.],\n",
       "       [0., 0.],\n",
       "       [0., 0.],\n",
       "       [0., 0.]])"
      ]
     },
     "execution_count": 26,
     "metadata": {},
     "output_type": "execute_result"
    }
   ],
   "source": [
    "arr = np.zeros(shape=(6, 2))\n",
    "arr"
   ]
  },
  {
   "cell_type": "code",
   "execution_count": 27,
   "metadata": {},
   "outputs": [
    {
     "data": {
      "text/plain": [
       "array([[0., 0.],\n",
       "       [0., 0.],\n",
       "       [0., 0.],\n",
       "       [0., 0.],\n",
       "       [0., 0.],\n",
       "       [0., 0.]])"
      ]
     },
     "execution_count": 27,
     "metadata": {},
     "output_type": "execute_result"
    }
   ],
   "source": [
    "arr1 = np.zeros((6, 2))\n",
    "arr1"
   ]
  },
  {
   "cell_type": "code",
   "execution_count": 28,
   "metadata": {},
   "outputs": [
    {
     "data": {
      "text/plain": [
       "12"
      ]
     },
     "execution_count": 28,
     "metadata": {},
     "output_type": "execute_result"
    }
   ],
   "source": [
    "arr1.size"
   ]
  },
  {
   "cell_type": "markdown",
   "metadata": {},
   "source": [
    "- `np.ones()`: 배열의 shape를 인자로 넘기면, 모든 요소가 1인 배열을 생성\n",
    "- `np.eye()`, `np.identity()`: 단위 행렬 생성"
   ]
  },
  {
   "cell_type": "code",
   "execution_count": 30,
   "metadata": {},
   "outputs": [
    {
     "data": {
      "text/plain": [
       "array([1., 1., 1., 1., 1.])"
      ]
     },
     "execution_count": 30,
     "metadata": {},
     "output_type": "execute_result"
    }
   ],
   "source": [
    "np.ones(5)"
   ]
  },
  {
   "cell_type": "code",
   "execution_count": 31,
   "metadata": {},
   "outputs": [
    {
     "data": {
      "text/plain": [
       "array([1, 1, 1, 1, 1])"
      ]
     },
     "execution_count": 31,
     "metadata": {},
     "output_type": "execute_result"
    }
   ],
   "source": [
    "np.ones((5,), dtype=int)"
   ]
  },
  {
   "cell_type": "code",
   "execution_count": 32,
   "metadata": {},
   "outputs": [
    {
     "data": {
      "text/plain": [
       "array([[1., 1., 1., 1.],\n",
       "       [1., 1., 1., 1.],\n",
       "       [1., 1., 1., 1.]])"
      ]
     },
     "execution_count": 32,
     "metadata": {},
     "output_type": "execute_result"
    }
   ],
   "source": [
    "np.ones((3, 4))"
   ]
  },
  {
   "cell_type": "code",
   "execution_count": 33,
   "metadata": {},
   "outputs": [
    {
     "data": {
      "text/plain": [
       "array([[1., 0., 0.],\n",
       "       [0., 1., 0.],\n",
       "       [0., 0., 1.]])"
      ]
     },
     "execution_count": 33,
     "metadata": {},
     "output_type": "execute_result"
    }
   ],
   "source": [
    "np.eye(3)       # 3x3 단위행렬"
   ]
  },
  {
   "cell_type": "code",
   "execution_count": 34,
   "metadata": {},
   "outputs": [
    {
     "data": {
      "text/plain": [
       "array([[1, 0, 0],\n",
       "       [0, 1, 0],\n",
       "       [0, 0, 1]])"
      ]
     },
     "execution_count": 34,
     "metadata": {},
     "output_type": "execute_result"
    }
   ],
   "source": [
    "np.eye(3, dtype=int)        # 3x3 정수형 단위행렬"
   ]
  },
  {
   "cell_type": "code",
   "execution_count": 35,
   "metadata": {},
   "outputs": [
    {
     "data": {
      "text/plain": [
       "array([[1., 0., 0.],\n",
       "       [0., 1., 0.],\n",
       "       [0., 0., 1.]])"
      ]
     },
     "execution_count": 35,
     "metadata": {},
     "output_type": "execute_result"
    }
   ],
   "source": [
    "np.identity(3)          # 3x3 단위행렬"
   ]
  },
  {
   "cell_type": "code",
   "execution_count": 36,
   "metadata": {},
   "outputs": [
    {
     "data": {
      "text/plain": [
       "array([[0., 1., 0.],\n",
       "       [0., 0., 1.],\n",
       "       [0., 0., 0.]])"
      ]
     },
     "execution_count": 36,
     "metadata": {},
     "output_type": "execute_result"
    }
   ],
   "source": [
    "#k 가 1이므로 대각선 기준으로 하여 1단계 위로 1이 배치\n",
    "np.eye(3, k=1)"
   ]
  },
  {
   "cell_type": "code",
   "execution_count": 37,
   "metadata": {},
   "outputs": [
    {
     "data": {
      "text/plain": [
       "array([[0., 0., 0.],\n",
       "       [1., 0., 0.],\n",
       "       [0., 1., 0.]])"
      ]
     },
     "execution_count": 37,
     "metadata": {},
     "output_type": "execute_result"
    }
   ],
   "source": [
    "# k가 1이므로 대각선 기준으로 하여 1단계 아래로 1이 배치\n",
    "np.eye(3, k=-1)"
   ]
  },
  {
   "cell_type": "markdown",
   "metadata": {},
   "source": [
    "- `np.empty()`: 배열의 shape을 인자로 넘기면, 배열은 할당된 메모리 주소의 기존 값을 취한다.\n",
    "    - 주어진 shape와 타입의 배열을 생성하지만 값을 초기화하지 않는다.\n",
    "    - 해당 메모리 영역에 어떤 데이터가 남아있었던지 상관없이 그대로 영역의 주소만 알려줄 뿐이다.\n",
    "    - empty함수를 실행할때마다 값이 다르다."
   ]
  },
  {
   "cell_type": "code",
   "execution_count": 49,
   "metadata": {},
   "outputs": [
    {
     "data": {
      "text/plain": [
       "array([[0., 0.],\n",
       "       [0., 0.]])"
      ]
     },
     "execution_count": 49,
     "metadata": {},
     "output_type": "execute_result"
    }
   ],
   "source": [
    "np.empty((2, 2))"
   ]
  },
  {
   "cell_type": "code",
   "execution_count": 50,
   "metadata": {},
   "outputs": [
    {
     "data": {
      "text/plain": [
       "array([[0, 0],\n",
       "       [0, 0]])"
      ]
     },
     "execution_count": 50,
     "metadata": {},
     "output_type": "execute_result"
    }
   ],
   "source": [
    "np.empty((2, 2), dtype=int)     # 2x2 정수형 배열 생성"
   ]
  },
  {
   "cell_type": "code",
   "execution_count": 51,
   "metadata": {},
   "outputs": [
    {
     "data": {
      "text/plain": [
       "array([[0, 0],\n",
       "       [0, 0]])"
      ]
     },
     "execution_count": 51,
     "metadata": {},
     "output_type": "execute_result"
    }
   ],
   "source": [
    "arr = np.empty((2,2), dtype=int)\n",
    "arr"
   ]
  },
  {
   "cell_type": "markdown",
   "metadata": {},
   "source": [
    "- `np.linspace()`: 시작과 끝의 값을 지정하고 그 사이의 값을 균등하게 배분"
   ]
  },
  {
   "cell_type": "code",
   "execution_count": 52,
   "metadata": {},
   "outputs": [
    {
     "data": {
      "text/plain": [
       "array([ 1.        ,  1.18367347,  1.36734694,  1.55102041,  1.73469388,\n",
       "        1.91836735,  2.10204082,  2.28571429,  2.46938776,  2.65306122,\n",
       "        2.83673469,  3.02040816,  3.20408163,  3.3877551 ,  3.57142857,\n",
       "        3.75510204,  3.93877551,  4.12244898,  4.30612245,  4.48979592,\n",
       "        4.67346939,  4.85714286,  5.04081633,  5.2244898 ,  5.40816327,\n",
       "        5.59183673,  5.7755102 ,  5.95918367,  6.14285714,  6.32653061,\n",
       "        6.51020408,  6.69387755,  6.87755102,  7.06122449,  7.24489796,\n",
       "        7.42857143,  7.6122449 ,  7.79591837,  7.97959184,  8.16326531,\n",
       "        8.34693878,  8.53061224,  8.71428571,  8.89795918,  9.08163265,\n",
       "        9.26530612,  9.44897959,  9.63265306,  9.81632653, 10.        ])"
      ]
     },
     "execution_count": 52,
     "metadata": {},
     "output_type": "execute_result"
    }
   ],
   "source": [
    "np.linspace(1,10)"
   ]
  },
  {
   "cell_type": "code",
   "execution_count": 53,
   "metadata": {},
   "outputs": [
    {
     "data": {
      "text/plain": [
       "array([ 1.  ,  3.25,  5.5 ,  7.75, 10.  ])"
      ]
     },
     "execution_count": 53,
     "metadata": {},
     "output_type": "execute_result"
    }
   ],
   "source": [
    "np.linspace(1,10,5)     # 1부터 10까지 5개로 나눈 배열 생성"
   ]
  },
  {
   "cell_type": "code",
   "execution_count": 55,
   "metadata": {},
   "outputs": [
    {
     "data": {
      "text/plain": [
       "array([ 1.  ,  3.25,  5.5 ,  7.75, 10.  ])"
      ]
     },
     "execution_count": 55,
     "metadata": {},
     "output_type": "execute_result"
    }
   ],
   "source": [
    "np.linspace(1,10, num=5)"
   ]
  },
  {
   "cell_type": "code",
   "execution_count": 56,
   "metadata": {},
   "outputs": [
    {
     "data": {
      "text/plain": [
       "array([2.  , 2.25, 2.5 , 2.75, 3.  ])"
      ]
     },
     "execution_count": 56,
     "metadata": {},
     "output_type": "execute_result"
    }
   ],
   "source": [
    "np.linspace(2.0, 3.0, num=5)"
   ]
  },
  {
   "cell_type": "code",
   "execution_count": 57,
   "metadata": {},
   "outputs": [
    {
     "data": {
      "text/plain": [
       "array([2. , 2.2, 2.4, 2.6, 2.8])"
      ]
     },
     "execution_count": 57,
     "metadata": {},
     "output_type": "execute_result"
    }
   ],
   "source": [
    "# endpoint : 지정하지 않으면 True\n",
    "np.linspace(2.0, 3.0, num=5, endpoint=False)"
   ]
  },
  {
   "cell_type": "code",
   "execution_count": 58,
   "metadata": {},
   "outputs": [
    {
     "data": {
      "text/plain": [
       "array([2.  , 2.25, 2.5 , 2.75, 3.  ])"
      ]
     },
     "execution_count": 58,
     "metadata": {},
     "output_type": "execute_result"
    }
   ],
   "source": [
    "np.linspace(2.0, 3.0, num=5, endpoint=True)"
   ]
  },
  {
   "cell_type": "markdown",
   "metadata": {},
   "source": [
    "- `np.arange()`: 시작, 끝, 단계를 지정하여 배열 생성"
   ]
  },
  {
   "cell_type": "code",
   "execution_count": 59,
   "metadata": {},
   "outputs": [
    {
     "data": {
      "text/plain": [
       "array([0, 1, 2, 3, 4])"
      ]
     },
     "execution_count": 59,
     "metadata": {},
     "output_type": "execute_result"
    }
   ],
   "source": [
    "arr = np.arange(5)\n",
    "arr"
   ]
  },
  {
   "cell_type": "code",
   "execution_count": 60,
   "metadata": {},
   "outputs": [
    {
     "data": {
      "text/plain": [
       "array([1, 2, 3, 4])"
      ]
     },
     "execution_count": 60,
     "metadata": {},
     "output_type": "execute_result"
    }
   ],
   "source": [
    "np.arange(1, 5)"
   ]
  },
  {
   "cell_type": "code",
   "execution_count": 61,
   "metadata": {},
   "outputs": [
    {
     "data": {
      "text/plain": [
       "array([1, 3, 5, 7, 9])"
      ]
     },
     "execution_count": 61,
     "metadata": {},
     "output_type": "execute_result"
    }
   ],
   "source": [
    "np.arange(1, 10, 2)"
   ]
  },
  {
   "cell_type": "code",
   "execution_count": 62,
   "metadata": {},
   "outputs": [
    {
     "data": {
      "text/plain": [
       "array([0., 1., 2., 3., 4.])"
      ]
     },
     "execution_count": 62,
     "metadata": {},
     "output_type": "execute_result"
    }
   ],
   "source": [
    "np.arange(5.)"
   ]
  },
  {
   "cell_type": "code",
   "execution_count": 63,
   "metadata": {},
   "outputs": [
    {
     "data": {
      "text/plain": [
       "array([1., 2., 3., 4.])"
      ]
     },
     "execution_count": 63,
     "metadata": {},
     "output_type": "execute_result"
    }
   ],
   "source": [
    "np.arange(1., 5.)"
   ]
  },
  {
   "cell_type": "code",
   "execution_count": 64,
   "metadata": {},
   "outputs": [
    {
     "data": {
      "text/plain": [
       "array([1. , 3.5, 6. , 8.5])"
      ]
     },
     "execution_count": 64,
     "metadata": {},
     "output_type": "execute_result"
    }
   ],
   "source": [
    "np.arange(1, 10.5, 2.5)"
   ]
  },
  {
   "cell_type": "markdown",
   "metadata": {},
   "source": [
    "### 난수 기반 배열 생성 함수 : random 서브 모듈\n",
    "- random 서브 모듈에 포함된 중요한 난수 관련 함수\n",
    "    \n",
    "    | 함수 | 설명 |\n",
    "    |:---:|:---:|\n",
    "    | rand() | 균등 분포에서 난수 표본 추출 |\n",
    "    | randn() | 표준 정규 분포에서 난수 표본 추출 |\n",
    "    | randint() | 주어진 최소, 최대 범위에서 임의의 난수 추출 |\n",
    "    | normal() | 정규 분포에서 난수 추출 |\n",
    "    | uniform() | 균등(0, 1) 분포에서 난수 추출 |\n",
    "    | shuffle() | 주어진 리스트나 다차원 배열의 순서를 임의로 뒤섞음 |\n"
   ]
  },
  {
   "cell_type": "code",
   "execution_count": 65,
   "metadata": {},
   "outputs": [
    {
     "data": {
      "text/plain": [
       "array([0.54340494, 0.27836939, 0.42451759, 0.84477613, 0.00471886])"
      ]
     },
     "execution_count": 65,
     "metadata": {},
     "output_type": "execute_result"
    }
   ],
   "source": [
    "np.random.seed(100) # 같은 시드를 설정하면 동일한 난수가 발생\n",
    "np.random.rand(5)"
   ]
  },
  {
   "cell_type": "code",
   "execution_count": 66,
   "metadata": {},
   "outputs": [
    {
     "data": {
      "text/plain": [
       "array([[0.12156912, 0.67074908, 0.82585276],\n",
       "       [0.13670659, 0.57509333, 0.89132195],\n",
       "       [0.20920212, 0.18532822, 0.10837689],\n",
       "       [0.21969749, 0.97862378, 0.81168315],\n",
       "       [0.17194101, 0.81622475, 0.27407375]])"
      ]
     },
     "execution_count": 66,
     "metadata": {},
     "output_type": "execute_result"
    }
   ],
   "source": [
    "np.random.rand(5, 3)"
   ]
  },
  {
   "cell_type": "code",
   "execution_count": 67,
   "metadata": {},
   "outputs": [
    {
     "data": {
      "text/plain": [
       "array([4, 4, 4, 2, 2, 6, 4, 1, 3, 2])"
      ]
     },
     "execution_count": 67,
     "metadata": {},
     "output_type": "execute_result"
    }
   ],
   "source": [
    "np.random.randint(1, 7, size=10)"
   ]
  },
  {
   "cell_type": "code",
   "execution_count": 68,
   "metadata": {},
   "outputs": [
    {
     "data": {
      "text/plain": [
       "array([[10,  4,  3,  6,  9,  2,  1],\n",
       "       [ 8,  7,  3,  1,  9,  3,  6],\n",
       "       [ 2,  9,  2,  6,  5,  3,  9],\n",
       "       [ 4,  6,  1, 10,  4,  7,  4]])"
      ]
     },
     "execution_count": 68,
     "metadata": {},
     "output_type": "execute_result"
    }
   ],
   "source": [
    "np.random.randint(1, 11, size=(4, 7))"
   ]
  },
  {
   "cell_type": "code",
   "execution_count": 69,
   "metadata": {},
   "outputs": [
    {
     "data": {
      "text/plain": [
       "array([157.50234527, 178.42680403, 186.53035803, 172.47563963,\n",
       "       184.81320787, 180.14218841, 177.21179669, 164.29956669,\n",
       "       173.10504169, 177.55001444, 170.41973014, 179.35163488])"
      ]
     },
     "execution_count": 69,
     "metadata": {},
     "output_type": "execute_result"
    }
   ],
   "source": [
    "# 12명의 키를 난수로 생성, 평균은 175cm, 표준편차는 10인 정규분포\n",
    "\n",
    "np.random.seed(100) # 같은 시드를 설정하면 동일한 난수가 발생\n",
    "m = 175\n",
    "sigma = 10\n",
    "heights = m+sigma*np.random.randn(12)\n",
    "heights"
   ]
  },
  {
   "cell_type": "code",
   "execution_count": 70,
   "metadata": {},
   "outputs": [
    {
     "data": {
      "text/plain": [
       "array([[157.5 , 178.43, 186.53, 172.48],\n",
       "       [184.81, 180.14, 177.21, 164.3 ],\n",
       "       [173.11, 177.55, 170.42, 179.35]])"
      ]
     },
     "execution_count": 70,
     "metadata": {},
     "output_type": "execute_result"
    }
   ],
   "source": [
    "# 평균값이 175, 표준편차가 10인 정규 분포 함수 생성\n",
    "np.random.seed(100)\n",
    "nums = np.random.normal(loc=175, scale=10, size=(3, 4)).round(2)\n",
    "nums"
   ]
  },
  {
   "cell_type": "markdown",
   "metadata": {},
   "source": [
    "### 배열 요소 추가 : np.append()\n",
    "- 배열 arr의 끝에 values를 추가한 결과를 반환, 배열 arr 자체는 변경되지 않음\n",
    "- 축을 지정하지 않으면 배열 arr과 values는 모두 평탄하게 바뀐 후 (축이 없어짐), values를 추가하고 그 결과를 반환한다."
   ]
  },
  {
   "cell_type": "code",
   "execution_count": 71,
   "metadata": {},
   "outputs": [
    {
     "data": {
      "text/plain": [
       "array([1, 2, 3])"
      ]
     },
     "execution_count": 71,
     "metadata": {},
     "output_type": "execute_result"
    }
   ],
   "source": [
    "arr = np.array([1, 2, 3])\n",
    "arr"
   ]
  },
  {
   "cell_type": "code",
   "execution_count": 72,
   "metadata": {},
   "outputs": [
    {
     "name": "stdout",
     "output_type": "stream",
     "text": [
      "[1 2 3]\n",
      "[1 2 3 4]\n"
     ]
    }
   ],
   "source": [
    "arr = np.array([1, 2, 3])\n",
    "arr1 = np.append(arr, 4)\n",
    "print(arr)\n",
    "print(arr1)"
   ]
  },
  {
   "cell_type": "code",
   "execution_count": 73,
   "metadata": {},
   "outputs": [
    {
     "name": "stdout",
     "output_type": "stream",
     "text": [
      "[1 2 3]\n",
      "[[4 5]\n",
      " [6 7]]\n"
     ]
    }
   ],
   "source": [
    "arr = np.array([1, 2, 3])\n",
    "arr1 = np.array([[4, 5], [6, 7]])\n",
    "print(arr)\n",
    "print(arr1)"
   ]
  },
  {
   "cell_type": "code",
   "execution_count": 74,
   "metadata": {},
   "outputs": [
    {
     "name": "stdout",
     "output_type": "stream",
     "text": [
      "[1 2 3 4 5 6 7]\n"
     ]
    }
   ],
   "source": [
    "arr2 = np.append(arr, arr1)\n",
    "print(arr2)"
   ]
  },
  {
   "cell_type": "code",
   "execution_count": 76,
   "metadata": {},
   "outputs": [
    {
     "data": {
      "text/plain": [
       "array([[1, 2, 3],\n",
       "       [4, 5, 6]])"
      ]
     },
     "execution_count": 76,
     "metadata": {},
     "output_type": "execute_result"
    }
   ],
   "source": [
    "arr1 = np.array([[1, 2, 3], [4, 5, 6]])\n",
    "arr1"
   ]
  },
  {
   "cell_type": "code",
   "execution_count": 77,
   "metadata": {},
   "outputs": [
    {
     "data": {
      "text/plain": [
       "(2, 3)"
      ]
     },
     "execution_count": 77,
     "metadata": {},
     "output_type": "execute_result"
    }
   ],
   "source": [
    "arr1.shape"
   ]
  },
  {
   "cell_type": "code",
   "execution_count": 78,
   "metadata": {},
   "outputs": [
    {
     "data": {
      "text/plain": [
       "array([[1, 2, 3],\n",
       "       [4, 5, 6],\n",
       "       [7, 8, 9]])"
      ]
     },
     "execution_count": 78,
     "metadata": {},
     "output_type": "execute_result"
    }
   ],
   "source": [
    "np.append(arr1, [[7, 8, 9]], axis=0)"
   ]
  },
  {
   "cell_type": "code",
   "execution_count": 79,
   "metadata": {},
   "outputs": [
    {
     "data": {
      "text/plain": [
       "array([[1, 2, 3, 7],\n",
       "       [4, 5, 6, 8]])"
      ]
     },
     "execution_count": 79,
     "metadata": {},
     "output_type": "execute_result"
    }
   ],
   "source": [
    "np.append(arr1, ([7], [8]), axis=1)"
   ]
  },
  {
   "cell_type": "code",
   "execution_count": 80,
   "metadata": {},
   "outputs": [
    {
     "name": "stdout",
     "output_type": "stream",
     "text": [
      "[1 2 3 4 5 6 7 8 9]\n"
     ]
    }
   ],
   "source": [
    "a = np.array([[1, 2, 3], [4, 5, 6]])\n",
    "b = np.array([[7, 8, 9]])\n",
    "c = np.append(a, b)\n",
    "print(c)"
   ]
  },
  {
   "cell_type": "code",
   "execution_count": 81,
   "metadata": {},
   "outputs": [
    {
     "name": "stdout",
     "output_type": "stream",
     "text": [
      "[[1 2 3]\n",
      " [4 5 6]\n",
      " [7 8 9]]\n"
     ]
    }
   ],
   "source": [
    "a = np.array([[1, 2, 3], [4, 5, 6]])\n",
    "b = np.array([[7, 8, 9]])\n",
    "c = np.append(a, b, axis=0)\n",
    "print(c)"
   ]
  },
  {
   "cell_type": "code",
   "execution_count": 82,
   "metadata": {},
   "outputs": [
    {
     "name": "stdout",
     "output_type": "stream",
     "text": [
      "[[1 2 3 7]\n",
      " [4 5 6 8]]\n"
     ]
    }
   ],
   "source": [
    "a = np.array([[1, 2, 3], [4, 5, 6]])\n",
    "b = np.array([[7], [8]])\n",
    "c = np.append(a, b, axis=1)\n",
    "print(c)"
   ]
  },
  {
   "cell_type": "markdown",
   "metadata": {},
   "source": [
    "### 배열 요소 제거 : np.delete()\n",
    "- 배열 arr의 끝에 obj의 요소를 제거한 결과를 반환함, 배열 arr 자체는 변경되지 않음"
   ]
  },
  {
   "cell_type": "code",
   "execution_count": 83,
   "metadata": {},
   "outputs": [
    {
     "name": "stdout",
     "output_type": "stream",
     "text": [
      "[ 0  1  2  3  4  5  6  7  8  9 10 11]\n",
      "[ 0  1  2  3  4  6  7  8  9 10 11]\n",
      "[ 0  1  3  5  7  8  9 10 11]\n",
      "[ 0  1  2  3  4  5  6  7  8  9 10 11]\n"
     ]
    }
   ],
   "source": [
    "a = np.arange(12)\n",
    "print(a)\n",
    "\n",
    "#1차원 배열에서 index 5 인 항목 제거\n",
    "print(np.delete(a, 5))\n",
    "\n",
    "#1차원 배열에서 index 2, 4, 6인 항목 제거\n",
    "print(np.delete(a, [2, 4, 6]))\n",
    "\n",
    "print(a)"
   ]
  },
  {
   "cell_type": "code",
   "execution_count": 84,
   "metadata": {},
   "outputs": [
    {
     "name": "stdout",
     "output_type": "stream",
     "text": [
      "[[ 0  1  2  3]\n",
      " [ 4  5  6  7]\n",
      " [ 8  9 10 11]] \n",
      "\n",
      "[ 0  1  2  3  4  6  7  8  9 10 11] \n",
      "\n",
      "[[ 0  1  2  3]\n",
      " [ 8  9 10 11]] \n",
      "\n",
      "[[ 0  2  3]\n",
      " [ 4  6  7]\n",
      " [ 8 10 11]]\n"
     ]
    }
   ],
   "source": [
    "#0~11 수를 2차원(3, 4)형상으로 만듦\n",
    "a = np.arange(12).reshape(3, 4)\n",
    "print(a, '\\n')\n",
    "\n",
    "#축이 지정되지 않으면 1차원으로 변환. 배열에서 index 5인 항목 제거\n",
    "print(np.delete(a, 5),'\\n')\n",
    "\n",
    "#축을 지정하면, 축을 따라 지정한 index의 sub_array를 제거한 array를 반환\n",
    "print(np.delete(a, 1, axis=0),'\\n')\n",
    "\n",
    "#축을 지정하면, 축을 따라 지정한 index의 sub_array를 제거한 array 반환\n",
    "print(np.delete(a, 1, axis=1))"
   ]
  },
  {
   "cell_type": "code",
   "execution_count": 85,
   "metadata": {},
   "outputs": [
    {
     "name": "stdout",
     "output_type": "stream",
     "text": [
      "[[ 1  2  3  4]\n",
      " [ 5  6  7  8]\n",
      " [ 9 10 11 12]]\n",
      "-------------\n",
      "[ 1  3  5  7  8  9 10 11 12]\n",
      "-------------\n",
      "[[ 9 10 11 12]]\n",
      "-------------\n",
      "[[ 1  2  3  4]\n",
      " [ 5  6  7  8]\n",
      " [ 9 10 11 12]]\n"
     ]
    }
   ],
   "source": [
    "a = np.array([[1, 2, 3, 4], [5, 6, 7, 8], [9, 10, 11, 12]])\n",
    "print(a)\n",
    "print('-------------')\n",
    "\n",
    "print(np.delete(a, [1, 3, 5]))\n",
    "print('-------------')\n",
    "\n",
    "print(np.delete(a, [0, 1], axis = 0))\n",
    "print('-------------')\n",
    "\n",
    "print(a)"
   ]
  },
  {
   "cell_type": "markdown",
   "metadata": {},
   "source": [
    "### 배열 요소 삽입 : np.insert()\n",
    "- 배열 arr의 obj의 요소에 values를 삽입한 결과를 반환함, 배열 arr 자체는 변경되지 않음"
   ]
  },
  {
   "cell_type": "code",
   "execution_count": 86,
   "metadata": {},
   "outputs": [
    {
     "name": "stdout",
     "output_type": "stream",
     "text": [
      "[[1 1]\n",
      " [2 2]\n",
      " [3 3]]\n",
      "-------------\n",
      "[1 5 1 2 2 3 3]\n",
      "-------------\n",
      "[[1 1]\n",
      " [5 5]\n",
      " [2 2]\n",
      " [3 3]]\n",
      "-------------\n",
      "[[1 5 1]\n",
      " [2 5 2]\n",
      " [3 5 3]]\n",
      "-------------\n",
      "[[ 1 11  1]\n",
      " [ 2 12  2]\n",
      " [ 3 13  3]]\n",
      "-------------\n",
      "[[1 1]\n",
      " [2 2]\n",
      " [3 3]]\n"
     ]
    }
   ],
   "source": [
    "a = np.array([[1, 1], [2, 2], [3, 3]])\n",
    "print(a)\n",
    "print('-------------')\n",
    "\n",
    "print(np.insert(a, 1, 5))\n",
    "print('-------------')\n",
    "\n",
    "print(np.insert(a, 1, 5, axis=0))\n",
    "print('-------------')\n",
    "\n",
    "print(np.insert(a, 1, 5, axis=1))\n",
    "print('-------------')\n",
    "\n",
    "print(np.insert(a, 1, [11, 12, 13], axis=1))\n",
    "print('-------------')\n",
    "\n",
    "print(a)"
   ]
  },
  {
   "cell_type": "markdown",
   "metadata": {},
   "source": [
    "### 배열 요소 정렬 : np.sort()\n",
    "- 배열 arr의 요소들을 오름차순으로 정렬한 결과를 반환\n",
    "- kind는 정렬 알고리즘 : {‘quicksort’, ‘mergesort’, ‘heapsort’, ‘stable’}, 기본값은 ‘quicksort’\n",
    "- order는 정렬 기준 : 배열 arr가 필드를 가진 경우, 필드명으로 정렬 기준을 지정"
   ]
  },
  {
   "cell_type": "code",
   "execution_count": 87,
   "metadata": {},
   "outputs": [
    {
     "name": "stdout",
     "output_type": "stream",
     "text": [
      "[[1 4]\n",
      " [3 1]]\n",
      "-------------\n",
      "[[1 4]\n",
      " [1 3]]\n",
      "-------------\n",
      "[[1 4]\n",
      " [1 3]]\n",
      "-------------\n",
      "[1 1 3 4]\n",
      "-------------\n",
      "[[1 1]\n",
      " [3 4]]\n"
     ]
    }
   ],
   "source": [
    "a = np.array([[1, 4], [3, 1]])\n",
    "print(a)\n",
    "print('-------------')\n",
    "print(np.sort(a))\n",
    "print('-------------')\n",
    "print(np.sort(a, axis=1))\n",
    "print('-------------')\n",
    "print(np.sort(a, axis=None))\n",
    "print('-------------')\n",
    "print(np.sort(a, axis=0))"
   ]
  },
  {
   "cell_type": "code",
   "execution_count": 88,
   "metadata": {},
   "outputs": [
    {
     "name": "stdout",
     "output_type": "stream",
     "text": [
      "[(b'Arthur', 1.8, 41) (b'Lancelot', 1.9, 38) (b'Galand', 1.7, 38)] \n",
      "\n",
      "[(b'Galand', 1.7, 38) (b'Arthur', 1.8, 41) (b'Lancelot', 1.9, 38)]\n",
      "[(b'Galand', 1.7, 38) (b'Lancelot', 1.9, 38) (b'Arthur', 1.8, 41)]\n"
     ]
    }
   ],
   "source": [
    "dtype = [('name', 'S10'), ('height', float), ('age', int)]\n",
    "values = [('Arthur', 1.8, 41), ('Lancelot', 1.9, 38),\n",
    "          ('Galand', 1.7, 38)]\n",
    "a = np.array(values, dtype=dtype)\n",
    "print(a, '\\n')\n",
    "\n",
    "print(np.sort(a, order='height'))\n",
    "print(np.sort(a, order=['age', 'height']))"
   ]
  },
  {
   "cell_type": "markdown",
   "metadata": {},
   "source": [
    "### 배열 요소 연결 : np.concatenate()"
   ]
  },
  {
   "cell_type": "code",
   "execution_count": 89,
   "metadata": {},
   "outputs": [
    {
     "name": "stdout",
     "output_type": "stream",
     "text": [
      "[1, 2, 3, 4, 5, 6]\n",
      "-------------\n",
      "[5 7 9]\n"
     ]
    }
   ],
   "source": [
    "list1 = [1, 2, 3]\n",
    "list2 = [4, 5, 6]\n",
    "print(list1 + list2)\n",
    "print('-------------')\n",
    "arr1 = np.array([1, 2, 3])\n",
    "arr2 = np.array([4, 5, 6])\n",
    "print(arr1 + arr2)"
   ]
  },
  {
   "cell_type": "code",
   "execution_count": 90,
   "metadata": {},
   "outputs": [
    {
     "name": "stdout",
     "output_type": "stream",
     "text": [
      "[1 2 3 4 5 6]\n"
     ]
    }
   ],
   "source": [
    "arr1 = np.array([1, 2, 3])\n",
    "arr2 = np.array([4, 5, 6])\n",
    "print(np.concatenate((arr1, arr2)))"
   ]
  },
  {
   "cell_type": "code",
   "execution_count": 91,
   "metadata": {},
   "outputs": [
    {
     "name": "stdout",
     "output_type": "stream",
     "text": [
      "[[1 2 3]\n",
      " [4 5 6]]\n",
      "-------------\n",
      "[[1 2 3 4 5 6]]\n"
     ]
    }
   ],
   "source": [
    "arr1 = np.array([[1, 2, 3]])\n",
    "arr2 = np.array([[4, 5, 6]])\n",
    "\n",
    "print(np.concatenate((arr1, arr2), axis=0))\n",
    "print('-------------')\n",
    "print(np.concatenate((arr1, arr2), axis=1))"
   ]
  },
  {
   "cell_type": "code",
   "execution_count": 92,
   "metadata": {},
   "outputs": [
    {
     "name": "stdout",
     "output_type": "stream",
     "text": [
      "[[1 2]\n",
      " [3 4]\n",
      " [5 6]]\n",
      "-------------\n",
      "[[1 2 5]\n",
      " [3 4 6]]\n",
      "-------------\n",
      "[1 2 3 4 5 6]\n"
     ]
    }
   ],
   "source": [
    "arr1 = np.array([[1, 2], [3, 4]])\n",
    "arr2 = np.array([[5, 6]])\n",
    "print(np.concatenate((arr1, arr2), axis=0))\n",
    "print('-------------')\n",
    "\n",
    "#두번째 축(axis=1)을 따라 연결하기 위해 transpose를 사용\n",
    "print(np.concatenate((arr1, arr2.T), axis=1))\n",
    "print('-------------')\n",
    "\n",
    "print(np.concatenate((arr1, arr2), axis=None))"
   ]
  },
  {
   "cell_type": "markdown",
   "metadata": {},
   "source": [
    "### 행렬의 전치 : np.transpose(), np.T"
   ]
  },
  {
   "cell_type": "code",
   "execution_count": 93,
   "metadata": {},
   "outputs": [
    {
     "data": {
      "text/plain": [
       "array([[0, 1],\n",
       "       [2, 3]])"
      ]
     },
     "execution_count": 93,
     "metadata": {},
     "output_type": "execute_result"
    }
   ],
   "source": [
    "x = np.arange(4).reshape((2,2))\n",
    "x"
   ]
  },
  {
   "cell_type": "code",
   "execution_count": 94,
   "metadata": {},
   "outputs": [
    {
     "data": {
      "text/plain": [
       "array([[0, 1],\n",
       "       [2, 3]])"
      ]
     },
     "execution_count": 94,
     "metadata": {},
     "output_type": "execute_result"
    }
   ],
   "source": [
    "x = np.arange(4).reshape((2,2))\n",
    "x"
   ]
  },
  {
   "cell_type": "code",
   "execution_count": 95,
   "metadata": {},
   "outputs": [
    {
     "name": "stdout",
     "output_type": "stream",
     "text": [
      "[[ 0  1  2  3  4]\n",
      " [ 5  6  7  8  9]\n",
      " [10 11 12 13 14]]\n",
      "-------------\n",
      "[[ 0  5 10]\n",
      " [ 1  6 11]\n",
      " [ 2  7 12]\n",
      " [ 3  8 13]\n",
      " [ 4  9 14]]\n",
      "-------------\n",
      "[[ 0  5 10]\n",
      " [ 1  6 11]\n",
      " [ 2  7 12]\n",
      " [ 3  8 13]\n",
      " [ 4  9 14]]\n"
     ]
    }
   ],
   "source": [
    "a = np.arange(15).reshape(3, 5)\n",
    "print(a)\n",
    "print('-------------')\n",
    "print(a.T)\n",
    "print('-------------')\n",
    "print(np.transpose(a))"
   ]
  },
  {
   "cell_type": "code",
   "execution_count": 96,
   "metadata": {},
   "outputs": [
    {
     "name": "stdout",
     "output_type": "stream",
     "text": [
      "[[ 0  1  2  3  4]\n",
      " [ 5  6  7  8  9]\n",
      " [10 11 12 13 14]]\n",
      "[[ 0  5 10]\n",
      " [ 1  6 11]\n",
      " [ 2  7 12]\n",
      " [ 3  8 13]\n",
      " [ 4  9 14]]\n",
      "(5, 3)\n"
     ]
    }
   ],
   "source": [
    "a = np.arange(15).reshape(3, 5)\n",
    "b = a.T\n",
    "c = b.shape\n",
    "print(a)\n",
    "print(b)\n",
    "print(c)"
   ]
  },
  {
   "cell_type": "markdown",
   "metadata": {},
   "source": [
    "### reshape() 함수 \n",
    "- 데이터를 변경하지 않고 배열을 새로운 shape로 변경\n",
    "    - 매개변수 -1을 입력하면 다차원 배열을 1차원으로 변경하여 반환\n",
    "    - 매개변수 -1을 행, 열에 입력 가능 (-1 : 알 수 없는 행, 열로 지정)"
   ]
  },
  {
   "cell_type": "code",
   "execution_count": 97,
   "metadata": {},
   "outputs": [
    {
     "data": {
      "text/plain": [
       "array([[ 0,  1,  2,  3],\n",
       "       [ 4,  5,  6,  7],\n",
       "       [ 8,  9, 10, 11]])"
      ]
     },
     "execution_count": 97,
     "metadata": {},
     "output_type": "execute_result"
    }
   ],
   "source": [
    "arr = np.arange(12).reshape(3,4)\n",
    "arr"
   ]
  },
  {
   "cell_type": "code",
   "execution_count": 98,
   "metadata": {},
   "outputs": [
    {
     "name": "stdout",
     "output_type": "stream",
     "text": [
      "[ 0  1  2  3  4  5  6  7  8  9 10 11]\n"
     ]
    },
    {
     "data": {
      "text/plain": [
       "array([ 0,  1,  2,  3,  4,  5,  6,  7,  8,  9, 10, 11])"
      ]
     },
     "execution_count": 98,
     "metadata": {},
     "output_type": "execute_result"
    }
   ],
   "source": [
    "print(arr.reshape(-1))\n",
    "arr1 = arr.reshape(-1)\n",
    "arr1"
   ]
  },
  {
   "cell_type": "code",
   "execution_count": 99,
   "metadata": {},
   "outputs": [
    {
     "data": {
      "text/plain": [
       "(3, 4)"
      ]
     },
     "execution_count": 99,
     "metadata": {},
     "output_type": "execute_result"
    }
   ],
   "source": [
    "arr.shape"
   ]
  },
  {
   "cell_type": "code",
   "execution_count": 100,
   "metadata": {},
   "outputs": [
    {
     "data": {
      "text/plain": [
       "(12,)"
      ]
     },
     "execution_count": 100,
     "metadata": {},
     "output_type": "execute_result"
    }
   ],
   "source": [
    "arr1.shape"
   ]
  },
  {
   "cell_type": "code",
   "execution_count": 101,
   "metadata": {},
   "outputs": [
    {
     "data": {
      "text/plain": [
       "array([[ 0,  1],\n",
       "       [ 2,  3],\n",
       "       [ 4,  5],\n",
       "       [ 6,  7],\n",
       "       [ 8,  9],\n",
       "       [10, 11]])"
      ]
     },
     "execution_count": 101,
     "metadata": {},
     "output_type": "execute_result"
    }
   ],
   "source": [
    "arr.reshape(-1, 2)"
   ]
  },
  {
   "cell_type": "code",
   "execution_count": 102,
   "metadata": {},
   "outputs": [
    {
     "data": {
      "text/plain": [
       "array([[ 0,  1,  2,  3],\n",
       "       [ 4,  5,  6,  7],\n",
       "       [ 8,  9, 10, 11]])"
      ]
     },
     "execution_count": 102,
     "metadata": {},
     "output_type": "execute_result"
    }
   ],
   "source": [
    "arr.reshape(3, -1)"
   ]
  },
  {
   "cell_type": "code",
   "execution_count": 103,
   "metadata": {},
   "outputs": [
    {
     "data": {
      "text/plain": [
       "array([[[ 0,  1,  2,  3],\n",
       "        [ 4,  5,  6,  7],\n",
       "        [ 8,  9, 10, 11]],\n",
       "\n",
       "       [[12, 13, 14, 15],\n",
       "        [16, 17, 18, 19],\n",
       "        [20, 21, 22, 23]]])"
      ]
     },
     "execution_count": 103,
     "metadata": {},
     "output_type": "execute_result"
    }
   ],
   "source": [
    "arr = np.arange(24).reshape(2, 3, 4)  #24까지 2개로 나눈다(3행 4열짜리로)\n",
    "arr"
   ]
  },
  {
   "cell_type": "code",
   "execution_count": 104,
   "metadata": {},
   "outputs": [
    {
     "data": {
      "text/plain": [
       "(2, 3, 4)"
      ]
     },
     "execution_count": 104,
     "metadata": {},
     "output_type": "execute_result"
    }
   ],
   "source": [
    "arr.shape"
   ]
  },
  {
   "cell_type": "code",
   "execution_count": 105,
   "metadata": {},
   "outputs": [
    {
     "data": {
      "text/plain": [
       "3"
      ]
     },
     "execution_count": 105,
     "metadata": {},
     "output_type": "execute_result"
    }
   ],
   "source": [
    "arr.ndim"
   ]
  },
  {
   "cell_type": "code",
   "execution_count": 106,
   "metadata": {},
   "outputs": [
    {
     "data": {
      "text/plain": [
       "24"
      ]
     },
     "execution_count": 106,
     "metadata": {},
     "output_type": "execute_result"
    }
   ],
   "source": [
    "arr.size"
   ]
  },
  {
   "cell_type": "code",
   "execution_count": 107,
   "metadata": {},
   "outputs": [
    {
     "data": {
      "text/plain": [
       "dtype('int64')"
      ]
     },
     "execution_count": 107,
     "metadata": {},
     "output_type": "execute_result"
    }
   ],
   "source": [
    "arr.dtype"
   ]
  },
  {
   "cell_type": "code",
   "execution_count": 109,
   "metadata": {},
   "outputs": [
    {
     "data": {
      "text/plain": [
       "array([[[ 0,  1,  2,  3],\n",
       "        [ 4,  5,  6,  7],\n",
       "        [ 8,  9, 10, 11],\n",
       "        [12, 13, 14, 15],\n",
       "        [16, 17, 18, 19],\n",
       "        [20, 21, 22, 23]]])"
      ]
     },
     "execution_count": 109,
     "metadata": {},
     "output_type": "execute_result"
    }
   ],
   "source": [
    "arr = np.array([[[0, 1, 2, 3],\n",
    "                 [4, 5, 6, 7],\n",
    "                 [8, 9, 10, 11],\n",
    "                 [12, 13, 14, 15],\n",
    "                 [16, 17, 18, 19],\n",
    "                 [20, 21, 22, 23]]])\n",
    "arr"
   ]
  },
  {
   "cell_type": "markdown",
   "metadata": {},
   "source": [
    "- `flatten()`, `ravel()` 함수\n",
    "    - 다차원 배열을 1차원으로 변경\n",
    "    - flatten() : 배열을 복사하여 변경\n",
    "    - ravel() : 배열을 원본 배열과 공유하여 변경"
   ]
  },
  {
   "cell_type": "code",
   "execution_count": 110,
   "metadata": {},
   "outputs": [
    {
     "name": "stdout",
     "output_type": "stream",
     "text": [
      "[[ 0  1  2  3]\n",
      " [ 4  5  6  7]\n",
      " [ 8  9 10 11]]\n",
      "[ 0  1  2  3  4  5  6  7  8  9 10 11]\n"
     ]
    }
   ],
   "source": [
    "arr = np.arange(12).reshape(3,4)        \n",
    "print(arr)\n",
    "print(arr.flatten())        #(얕은복사)\n",
    "arr1 = arr.flatten()\n"
   ]
  },
  {
   "cell_type": "code",
   "execution_count": 111,
   "metadata": {},
   "outputs": [
    {
     "name": "stdout",
     "output_type": "stream",
     "text": [
      "[[ 0  1  2  3]\n",
      " [ 4  5  6  7]\n",
      " [ 8  9 10 11]]\n",
      "[ 0  1  2  3  4  5  6  7  8  9 10 11]\n"
     ]
    }
   ],
   "source": [
    "arr = np.arange(12).reshape(3,4)        \n",
    "print(arr)\n",
    "print(arr.flatten())        #(얕은복사)\n",
    "arr1 = arr.reshape(-1)      #(flatten과 동일)\n"
   ]
  },
  {
   "cell_type": "code",
   "execution_count": 112,
   "metadata": {},
   "outputs": [
    {
     "name": "stdout",
     "output_type": "stream",
     "text": [
      "[[ 0  1  2  3]\n",
      " [ 4  5  6  7]\n",
      " [ 8  9 10 11]]\n",
      "[ 0  1  2  3  4  5  6  7  8  9 10 11]\n"
     ]
    }
   ],
   "source": [
    "arr = np.arange(12).reshape(3,4)\n",
    "print(arr)\n",
    "print(arr.ravel())          #(깊은복사)\n",
    "arr1 = arr.ravel()"
   ]
  },
  {
   "cell_type": "markdown",
   "metadata": {},
   "source": [
    "- `flatten()` \n",
    "    - 여러 행렬의 함수를 하나의 행 또는 열로 변환\n",
    "    - 값을 바꾸게 되면 이전 소스 데이터는 변경 안되는 함수 "
   ]
  },
  {
   "cell_type": "code",
   "execution_count": 113,
   "metadata": {},
   "outputs": [
    {
     "name": "stdout",
     "output_type": "stream",
     "text": [
      "flatten()전: a값\n",
      " [[ 0  1  2  3]\n",
      " [ 4  5  6  7]\n",
      " [ 8  9 10 11]\n",
      " [12 13 14 15]\n",
      " [16 17 18 19]\n",
      " [20 21 22 23]]\n",
      "flatten()후: a값\n",
      " [[ 0  1  2  3]\n",
      " [ 4  5  6  7]\n",
      " [ 8  9 10 11]\n",
      " [12 13 14 15]\n",
      " [16 17 18 19]\n",
      " [20 21 22 23]]\n",
      "b값\n",
      " [100   1   2   3   4   5   6   7   8   9  10  11  12  13  14  15  16  17\n",
      "  18  19  20  21  22  23]\n"
     ]
    }
   ],
   "source": [
    "a = np.arange(24).reshape(6,4)\n",
    "print(f'flatten()전: a값\\n {a}')\n",
    "b = a.flatten()\n",
    "b[0] = 100\n",
    "print(f'flatten()후: a값\\n {a}')\n",
    "print(f'b값\\n {b}')"
   ]
  },
  {
   "cell_type": "code",
   "execution_count": 114,
   "metadata": {},
   "outputs": [
    {
     "name": "stdout",
     "output_type": "stream",
     "text": [
      "flatten()전: a값\n",
      " [[ 0  1  2  3]\n",
      " [ 4  5  6  7]\n",
      " [ 8  9 10 11]\n",
      " [12 13 14 15]\n",
      " [16 17 18 19]\n",
      " [20 21 22 23]]\n",
      "flatten()후: a값\n",
      " [[100   1   2   3]\n",
      " [  4   5   6   7]\n",
      " [  8   9  10  11]\n",
      " [ 12  13  14  15]\n",
      " [ 16  17  18  19]\n",
      " [ 20  21  22  23]]\n",
      "b값\n",
      " [100   1   2   3   4   5   6   7   8   9  10  11  12  13  14  15  16  17\n",
      "  18  19  20  21  22  23]\n"
     ]
    }
   ],
   "source": [
    "a = np.arange(24).reshape(6,4)\n",
    "print(f'flatten()전: a값\\n {a}')\n",
    "b = a.ravel()\n",
    "b[0] = 100\n",
    "print(f'flatten()후: a값\\n {a}')\n",
    "print(f'b값\\n {b}')"
   ]
  }
 ],
 "metadata": {
  "kernelspec": {
   "display_name": "mlpython",
   "language": "python",
   "name": "python3"
  },
  "language_info": {
   "codemirror_mode": {
    "name": "ipython",
    "version": 3
   },
   "file_extension": ".py",
   "mimetype": "text/x-python",
   "name": "python",
   "nbconvert_exporter": "python",
   "pygments_lexer": "ipython3",
   "version": "3.11.9"
  }
 },
 "nbformat": 4,
 "nbformat_minor": 2
}
